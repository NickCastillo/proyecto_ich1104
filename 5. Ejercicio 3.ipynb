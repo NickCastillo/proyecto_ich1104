{
 "cells": [
  {
   "cell_type": "markdown",
   "metadata": {},
   "source": [
    "# Ejercicio 3"
   ]
  },
  {
   "cell_type": "markdown",
   "metadata": {},
   "source": [
    "## Manipulación dínamica de la central hidroeléctrica:\n",
    "\n",
    "En esta sección, lo que se busca lograr es que las personas puedan entender y tener una primera aproximación a como se comportan las variables de una central hidroeléctrica ante los cambios en la apertura de salida de la compuerta.\n",
    "\n",
    "La manera de utilización de esta herramienta es la siguiente:\n",
    "\n",
    "Al ejecutar el código, 2 graficos irán moviendose automáticamente (cabe destacar que lograr esto fue de mucha complejidad pero creemos que es la manera más intuitiva de entender los fenomenos fisicos que ocurren).\n",
    "\n",
    "En primer lugar se tiene la grafica de la altura del estanque, que va aumentando ya que en un principio la compuerta se encuentra totalmente cerrada, pero recibe un caudal constante del río.\n",
    "\n",
    "Luego se tiene la gráfica de la potencia generada por la central, que inicialmente es 0 por la compuerta cerrada.\n",
    "\n",
    "Abajo de estas gráficas encontramos un _slider_, este slider representa la apertura de la compuerta, por lo que al aumentarla el estanque empieza a subir más lentamente, hasta un punto en qe empieza a deisminuir (Q de salida supera al Q de entrada). Al mismo tiempo, veremos como la potencia ya no es nula, sino que es un valor que es más alto para una compuerta más abierta, pero que tambien va disminuyendo si el estanque disminuye.\n",
    "\n",
    "Esto nos permite ver muchos conceptos interesantes, por ejemplo abriendo la compuerta al maximo vemos como disminuye hasta un punto determinado en que el caudal de salida iguala al caudal de entrada, tambien vemos como mientras más alto el estanque, más tarda en subir, ya que el area horizontal del agua (la superficie) va aumentando, mientras que mientras más baja, más rapido baja (aunque estos cambios son pocos perceptibleds para los parametros fijados). Y por ultimo, pero el más interesante, vemos como abrir la compuerta conviene en el momento, pero que al ir guardando agua finalmente podemos producir aun más energía, lo que nos muestra correctamente el desempeño de la central.\n",
    "\n",
    "En cuanto a los parámetros, no nos complicamos en buscar y analizar una central real, sino que los fijamos un poco \"al ojo\", esto ya que los parámetros pueden ser facilmente remplazados cambiando el valor en el inicio del código, para aquellos interesados que quieran ir iterando en centrales.\n",
    "\n",
    ":)"
   ]
  },
  {
   "cell_type": "code",
   "execution_count": 1,
   "metadata": {},
   "outputs": [
    {
     "data": {
      "application/vnd.jupyter.widget-view+json": {
       "model_id": "a6518e5b450047b598ae9215d63cad90",
       "version_major": 2,
       "version_minor": 0
      },
      "text/plain": [
       "FloatSlider(value=0.0)"
      ]
     },
     "metadata": {},
     "output_type": "display_data"
    },
    {
     "data": {
      "image/png": "[encoded data removed]",
      "text/plain": [
       "<Figure size 432x288 with 1 Axes>"
      ]
     },
     "metadata": {
      "needs_background": "light"
     },
     "output_type": "display_data"
    },
    {
     "data": {
      "image/png": "[encoded data removed]",
      "text/plain": [
       "<Figure size 432x288 with 1 Axes>"
      ]
     },
     "metadata": {
      "needs_background": "light"
     },
     "output_type": "display_data"
    }
   ],
   "source": [
    "%matplotlib notebook\n",
    "\n",
    "import numpy as np\n",
    "import matplotlib.pyplot as plt\n",
    "import ipywidgets as widgets\n",
    "from ipywidgets import FloatSlider\n",
    "import math\n",
    "\n",
    "from matplotlib import animation, rc\n",
    "from IPython.display import HTML\n",
    "\n",
    "a = 0.5\n",
    "b = 10.0\n",
    "C = 0.64\n",
    "g = 9.81\n",
    "qin= 300.0\n",
    "n = 0.3\n",
    "gamma = 9.800\n",
    "mu = 0.001\n",
    "\n",
    "h_list = [50.0, 50.0, 50.0, 50.0, 50.0, 50.0, 50.0, 50.0, 50.0, 50.0, 50.0, 50.0, 50.0, 50.0, 50.0, 50.0, 50.0, 50.0, 50.0, 50.0, 50.0, 50.0, 50.0, 50.0, 50.0, 50.0, 50.0, 50.0, 50.0, 50.0, 50.0, 50.0, 50.0, 50.0, 50.0, 50.0, 50.0, 50.0, 50.0, 50.0, 50.0, 50.0, 50.0, 50.0, 50.0, 50.0, 50.0, 50.0, 50.0, 50.0, 50.0, 50.0, 50.0, 50.0, 50.0, 50.0, 50.0, 50.0, 50.0, 50.0, 50.0, 50.0, 50.0, 50.0, 50.0, 50.0, 50.0, 50.0, 50.0, 50.0, 50.0, 50.0, 50.0, 50.0, 50.0, 50.0, 50.0, 50.0, 50.0, 50.0, 50.0, 50.0, 50.0, 50.0, 50.0, 50.0, 50.0, 50.0, 50.0, 50.0, 50.0, 50.0, 50.0, 50.0, 50.0, 50.0, 50.0, 50.0, 50.0, 50.0, 50.0, 50.0, 50.0, 50.0, 50.0, 50.0, 50.0, 50.0, 50.0, 50.0, 50.0, 50.0, 50.0, 50.0, 50.0, 50.0, 50.0, 50.0, 50.0, 50.0, 50.0, 50.0, 50.0, 50.0, 50.0, 50.0, 50.0, 50.0, 50.0, 50.0, 50.0, 50.0, 50.0, 50.0, 50.0, 50.0, 50.0, 50.0, 50.0, 50.0, 50.0, 50.0, 50.0, 50.0, 50.0, 50.0, 50.0, 50.0, 50.0, 50.0, 50.0, 50.0, 50.0, 50.0, 50.0, 50.0, 50.0, 50.0, 50.0, 50.0, 50.0, 50.0, 50.0, 50.0, 50.0, 50.0, 50.0, 50.0, 50.0, 50.0, 50.0, 50.0, 50.0, 50.0, 50.0, 50.0, 50.0, 50.0, 50.0, 50.0, 50.0, 50.0, 50.0, 50.0, 50.0, 50.0, 50.0, 50.0, 50.0, 50.0, 50.0, 50.0, 50.0, 50.0, 50.0, 50.0, 50.0, 50.0, 50.0, 50.0]\n",
    "\n",
    "fig, ax = plt.subplots()\n",
    "ax.set_xlim(( 0, 100))\n",
    "ax.set_ylim((0, 100))\n",
    "\n",
    "line, = ax.plot([], [], lw=2)\n",
    "\n",
    "def init():\n",
    "    line.set_data([], [])\n",
    "    return (line,)\n",
    "\n",
    "def animate(i):\n",
    "    x = np.linspace(0, 100, 200)\n",
    "    h = h_list[199]\n",
    "    h_list.pop(0)\n",
    "    Q = C*a*b1.value*math.sqrt(g*h)\n",
    "    dhdt = (qin-Q)/(b*h+h**2)\n",
    "    h_list.append(h + dhdt)\n",
    "    y = h_list\n",
    "    line.set_data(x, y)\n",
    "    return (line,)\n",
    "anim = animation.FuncAnimation(fig, animate, init_func=init, frames=200, interval=10, blit=False)\n",
    "\n",
    "\n",
    "p_list = [0.0,  0.0,  0.0,  0.0,  0.0,  0.0,  0.0,  0.0,  0.0,  0.0,  0.0,  0.0,  0.0,  0.0,  0.0,  0.0,  0.0,  0.0,  0.0,  0.0,  0.0,  0.0,  0.0,  0.0,  0.0,  0.0,  0.0,  0.0,  0.0,  0.0,  0.0,  0.0,  0.0,  0.0,  0.0,  0.0,  0.0,  0.0,  0.0,  0.0,  0.0,  0.0,  0.0,  0.0,  0.0,  0.0,  0.0,  0.0,  0.0,  0.0,  0.0,  0.0,  0.0,  0.0,  0.0,  0.0,  0.0,  0.0,  0.0,  0.0,  0.0,  0.0,  0.0,  0.0,  0.0,  0.0,  0.0,  0.0,  0.0,  0.0,  0.0,  0.0,  0.0,  0.0,  0.0,  0.0,  0.0,  0.0,  0.0,  0.0,  0.0,  0.0,  0.0,  0.0,  0.0,  0.0,  0.0,  0.0,  0.0,  0.0,  0.0,  0.0,  0.0,  0.0,  0.0,  0.0,  0.0,  0.0,  0.0,  0.0,  0.0,  0.0,  0.0,  0.0,  0.0,  0.0,  0.0,  0.0,  0.0,  0.0,  0.0,  0.0,  0.0,  0.0,  0.0,  0.0,  0.0,  0.0,  0.0,  0.0,  0.0,  0.0,  0.0,  0.0,  0.0,  0.0,  0.0,  0.0,  0.0,  0.0,  0.0,  0.0,  0.0,  0.0,  0.0,  0.0,  0.0,  0.0,  0.0,  0.0,  0.0,  0.0,  0.0,  0.0,  0.0,  0.0,  0.0,  0.0,  0.0,  0.0,  0.0,  0.0,  0.0,  0.0,  0.0,  0.0,  0.0,  0.0,  0.0,  0.0,  0.0,  0.0,  0.0,  0.0,  0.0,  0.0,  0.0,  0.0,  0.0,  0.0,  0.0,  0.0,  0.0,  0.0,  0.0,  0.0,  0.0,  0.0,  0.0,  0.0,  0.0,  0.0,  0.0,  0.0,  0.0,  0.0,  0.0,  0.0,  0.0,  0.0,  0.0,  0.0,  0.0,  0.0,  0.0,  0.0,  0.0,  0.0,  0.0,  0.0]\n",
    "\n",
    "fig2, ax2 = plt.subplots()\n",
    "ax2.set_xlim(( 0, 100))\n",
    "ax2.set_ylim((0, 100))\n",
    "\n",
    "line2, = ax2.plot([], [], lw=2)\n",
    "\n",
    "def init2():\n",
    "    line2.set_data([], [])\n",
    "    return (line2,)\n",
    "\n",
    "def animate2(i):\n",
    "    x2 = np.linspace(0, 100, 200)\n",
    "    h2 = h_list[199]\n",
    "    v = C*math.sqrt(g*h2)\n",
    "    P = n*gamma*C*a*b1.value*math.sqrt(h2)*(h2 + (v**2)/(2*g))/1000\n",
    "    p_list.append(P)\n",
    "    p_list.pop(0)\n",
    "    y2 = p_list\n",
    "    line2.set_data(x2, y2)\n",
    "    return (line2,)\n",
    "anim2 = animation.FuncAnimation(fig2, animate2, init_func=init2, frames=200, interval=10, blit=False)\n",
    "\n",
    "\n",
    "b1 = widgets.FloatSlider()\n",
    "display(b1)\n",
    "\n"
   ]
  },
  {
   "cell_type": "code",
   "execution_count": null,
   "metadata": {},
   "outputs": [],
   "source": []
  }
 ],
 "metadata": {
  "kernelspec": {
   "display_name": "Python 3",
   "language": "python",
   "name": "python3"
  },
  "language_info": {
   "codemirror_mode": {
    "name": "ipython",
    "version": 3
   },
   "file_extension": ".py",
   "mimetype": "text/x-python",
   "name": "python",
   "nbconvert_exporter": "python",
   "pygments_lexer": "ipython3",
   "version": "3.8.0"
  }
 },
 "nbformat": 4,
 "nbformat_minor": 4
}
