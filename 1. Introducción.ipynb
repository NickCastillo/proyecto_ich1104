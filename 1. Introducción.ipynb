{
 "cells": [
  {
   "cell_type": "markdown",
   "metadata": {},
   "source": [
    "# Proyecto Mecánica de Fluidos - 2020-2"
   ]
  },
  {
   "cell_type": "markdown",
   "metadata": {},
   "source": [
    "# Funcionamiento de centrales hidroeléctricas\n",
    "## Grupo 12 \n",
    "Integrantes: José Troncoso, Nicolás Castillo, Arturo Gálvez y Martín Ibarra."
   ]
  },
  {
   "cell_type": "markdown",
   "metadata": {},
   "source": [
    "# _Indice_\n",
    "\n",
    "- Introduccion\n",
    "\n",
    "- ¿Que es una Central Hidroeléctrica?\n",
    "    - Tipos de Centrales Hidroeléctricas\n",
    "        - Hidroeléctricas de almacenamiento.\n",
    "        - Hidroeléctrica de bombeo.\n",
    "        - Hidroeléctrica marina.\n",
    "- ¿Que es una turbina hidraulica?\n",
    "    - Tipos y Modelos de Turbinas\n",
    "        - Turbinas de Acción\n",
    "        - Turbinas de Reacción\n",
    "        - Turbina de Francis\n",
    "        - Turbina de Kaplan\n",
    "        - Turbina de Pelton\n",
    "- Compuerta\n",
    "- Elementos Transitorios\n",
    "    - Golpe de Ariete\n",
    "- Chimenea de Equilibrio\n",
    "    - Chimenea Simple\n",
    "    \n",
    "---"
   ]
  },
  {
   "cell_type": "markdown",
   "metadata": {},
   "source": [
    "# Introducción\n",
    "---\n",
    "La generación de energía, tanto en Chile como en el mundo, es una temática que ha tomado gran relevancia en los últimos años. Esto, producto de que el sector energético es responsable de casi un 80\\% de las emisiones de gases de efecto invernadero para el caso de nuestro país. La alta contaminación del sector se debe al gran peso que tienen en la matriz energética centrales muy contaminantes que usualmente utilizan combustibles fósiles en su funcionamiento. Durante años uno de los mecanismos más utilizados para una generación limpia de energía han sido las centrales hidroeléctricas. Mecanismo que, si bien últimamente está a la baja (por las sequías y las discusiones sociales que surgen cuando se quiere instalar una nueva central), se mantiene aún como un agente de peso dentro de las llamadas energías renovables, siendo en Chile responsable de más de un 20\\% de la producción total de energía."
   ]
  },
  {
   "cell_type": "markdown",
   "metadata": {},
   "source": [
    "A continuación introduciremos los términos y componentes claves de una central hidroeléctrica (como por ejemplo las turbinas, compuertas y chimeneas) para poder así, entender de mejor manera el contexto en el cual las ecuaciones que veremos mas adelante son aplicadas. Pero primero... "
   ]
  },
  {
   "cell_type": "markdown",
   "metadata": {},
   "source": [
    "# ¿Que es una Central Hidroeléctrica? "
   ]
  },
  {
   "cell_type": "markdown",
   "metadata": {},
   "source": [
    "<table>\n",
    "    <tr>\n",
    "        <td> \n",
    "            <img src=\"assets/images/central_hidroelectrica.png\" width=2000px />\n",
    "        </td>\n",
    "        <td>\n",
    "            <p style=\"font-size: 15px\">\n",
    "            Una central hidroeléctrica es \" <strong>una instalación de generación renovable que permite transformar la  energía  potencial  del  agua  en  energía  renovable,  utilizando  turbinas  acopladas  a  los alternadores</strong>\" (Generadores de Chile, 2017).  \n",
    "               En términos simples, se busca con el agua mover una turbina la cual está acoplada a un generador, de esta forma, se termina transformando la energía mecanica producida por el agua en energía eléctrica.\n",
    "            </p>\n",
    "        </td>\n",
    "    </tr>\n",
    "</table>\n",
    "\n",
    "\n",
    "\n",
    "### A continuacion puedes ver un video del funcionamiento regular de una de estas:"
   ]
  },
  {
   "cell_type": "code",
   "execution_count": 1,
   "metadata": {},
   "outputs": [
    {
     "data": {
      "image/jpeg": "[encoded data removed]",
      "text/html": [
       "\n",
       "        <iframe\n",
       "            width=\"900\"\n",
       "            height=\"500\"\n",
       "            src=\"https://www.youtube.com/embed/G8tEnikzud4\"\n",
       "            frameborder=\"0\"\n",
       "            allowfullscreen\n",
       "        ></iframe>\n",
       "        "
      ],
      "text/plain": [
       "<IPython.lib.display.YouTubeVideo at 0x2da4562a0d0>"
      ]
     },
     "execution_count": 1,
     "metadata": {},
     "output_type": "execute_result"
    }
   ],
   "source": [
    "from IPython.display import YouTubeVideo\n",
    "YouTubeVideo('G8tEnikzud4', width=900, height=500)"
   ]
  },
  {
   "cell_type": "markdown",
   "metadata": {},
   "source": [
    "## Tipos de Centrales Hidroeléctricas:\n",
    "\n",
    "### Hidroeléctricas de almacenamiento:\n",
    "\n",
    "Esta central se ubica en un río y utiliza una presa para acumular el agua de este. El agua se libera cuando sea necesario a través de compuertas para luego caer hacia una turbina y mover un generador eléctrico. Gracias al almacenamiento la central es bastante versátil, pudiendo operar como carga base del sistema eléctrico o como carga máxima, ya que tiene gran rapidez de encendido y apagado aportando flexibilidad ante los cambios en la demanda. Si la represa es grande existe almacenamiento para funcionar durante meses independiente de la afluencia hidrológica (WEC, 2016).\n",
    "\n",
    "### Hidroeléctricas de pasada:\n",
    "\n",
    "<p style=\"font-size: 15px\"> En esta instalación a diferencia de la anterior se canaliza un río, es decir, se instala la central cerca de un río y mediante ductos se desvía agua del río hacia la central para accionar una turbina. Provocan muy poca inundación en la tierra, proporcionan un suministro continuo de energía, pudiendo utilizarse como carga base de la red o para las horas de máxima demanda (WEC, 2016).</p>\n",
    "    \n",
    "<img src=\"assets/images/centralpasada.png\" width=500px /> \n",
    "    \n",
    "### Hidroeléctrica de bombeo:\n",
    "\n",
    "<p style=\"font-size: 15px\"> Estas centrales otorgan energía en los períodos peak de demanda. Funcionan bombeando agua desde un estanque aguas abajo a un estanque aguas arriba mediante bombas en los períodos de baja demanda para ser utilizada en los períodos de alta demanda, liberando el agua del estanque superior pasando a través de una turbina para producir electricidad. Algunas centrales incluyen además, una entrada de agua en el estanque superior, permitiendo generar más energía. Dependiendo del precio de la electricidad en los períodos de baja y alta demanda, este tipo de generación eléctrica podría tener una suma neta igual a cero, ya que se requiere energía eléctrica en la bomba para operar, y luego se genera energía eléctrica. El gran beneficio de este tipo de central está en la flexibilidad que le otorga a la red eléctrica ya que es un almacenamiento que funciona en las horas de más alta demanda, satisfaciendo los peaks de demanda y otorgándole confianza al sistema eléctrico. Junto con esto, funciona perfecto cuando hay energías renovables como solar o eólica, dado que otorga reserva de respaldo en caso de baja generación renovable, disminuyendo la incertidumbre de la red (WEC, 2016).   </p> \n",
    "        \n",
    "<img src=\"assets/images/central_bombeo.png\" width=500px />\n",
    "\n",
    "Para informacion mas detallada sobre la imagen, porfavor visite [esta pagina](http://www.sectorelectricidad.com/16510/como-funciona-una-central-hidroelectrica-de-bombeo/)\n",
    "\n",
    "\n",
    "### Hidroeléctrica marina:\n",
    "\n",
    "Son nuevas y están poco desarrolladas. Existen distintos tipos dependiendo como se capte la energía del mar (WEC, 2016). Está la \\textbf{energía mareomotriz} que el ascenso y descenso del agua según la acción de la Luna y el Sol, el generador funciona de forma bidireccional y se necesita un lugar en el mar donde la marea alta y baja tenga grandes diferencias de altura (mínimo 5 metros). Otras centrales funcionan con la \\textbf{energía de las corrientes}, instalando especies de ''aerogeneradores'' marinos. Las \\textbf{centrales maremotérmicas} aprovechan el gradiente de temperatura entre la superficie y profundidad del mar, convirtiendo la energía térmica en eléctrica mediante el ciclo de Rankine, utilizando como sumideros el agua caliente de la superficie y el agua fría del fondo. Además de estas energías marinas existen otras como la \\textbf{unidomotriz o de las olas} y la \\textbf{energía azul o potencia ósmica} que aprovecha los gradientes salinos (OVACEN, s.f).\n",
    "\n",
    "<img src=\"assets/images/central_marina.png\" width=500px />"
   ]
  },
  {
   "cell_type": "markdown",
   "metadata": {},
   "source": [
    "<hr>"
   ]
  },
  {
   "cell_type": "markdown",
   "metadata": {},
   "source": [
    "# ¿Que es una turbina hidraulica? "
   ]
  },
  {
   "cell_type": "markdown",
   "metadata": {},
   "source": [
    "Una turbina hidraulica es una turbomaquina motora hidráulica la cual aprovecha la energía de un fluido que pasa a travéz de ella para producir un movimiento de rotación transferido mediante un eje el cual se conecta directamente con un generador el que, a su vez, transforma esta energía mecánica en energia eléctrica.\n",
    "\n",
    "## Tipos y Modelos de Turbinas:\n",
    "\n",
    "Existen 2 tipos de turbinas que se diferencian en la forma en que la energía del fluido se  transforma:\n",
    "\n",
    "### Turbinas de Acción:\n",
    "Son turbinas que aprovechan solamente la velocidad del flujo para hacer girar la turbina.\n",
    "\n",
    "### Turbinas de Reacción:  \n",
    "Son  turbinas  que  además  aprovechan\n",
    "la  presión  del  fluidopara hacer girar la turbina.\n",
    "\n",
    "<img src=\"assets/images/turbinas1.jpeg\" width=300px />"
   ]
  },
  {
   "cell_type": "markdown",
   "metadata": {},
   "source": [
    "Por otro lado, si bien existen múltiples modelos de turbina, las mas utilizadas por la industria de generación corresponden  a  la  turbina  Francis,  Kaplan  y  Pelton,  siendo  las  dos  primeras, turbinas de reacción, mientras que la ultima es una turbina de acción.\n",
    "\n",
    "### Turbina de Francis: \n",
    "\n",
    "Corresponde  a  una  turbina  de  reacción  y  de  flujo  centrípeto,  es decir, su flujo entra en forma de espiral. Por lo general se utilizan en centrales hidráulicas de altura media $(10m−400m)$ y caudales relativos a $[2 \\frac{m^3}{s} −100 \\frac{m^3}{s}]$\n",
    "\n",
    "###  Turbina de Kaplan:\n",
    "\n",
    "Es una turbina de tipo reacción y de flujo axial, en la que el fluido fluye haciendo que los alabes de la turbina giren hacia dentro o hacia fuera. Esta turbina tiene la ventaja de proporcionar un muy buen rendimiento para hidroeléctricas de alturas pequeñas, pero también para hidroeléctricas con grandes variaciones de caudal\n",
    "\n",
    "\n",
    "### Turbina de Pelton:\n",
    "\n",
    "Es similar a la clásica noria con paletas de antiguos molinos de agua, donde el agua golpea los alabes en forma de cuchara de la turbina produciendo el movimiento de esta. Esta se ocupa para grandes saltos $[300m-1400m]$ y caudales menores a $50\\frac{m^3}{s}$\n",
    "\n",
    "#### Imagenes: Francis | Kaplan | Pelton\n",
    "\n",
    "<table>\n",
    "    <tr>\n",
    "        <td>\n",
    "            <img src='assets/images/francis.jpg'>\n",
    "        </td>\n",
    "        <td>\n",
    "            <img src='assets/images/kaplan.jpg'>\n",
    "        </td>\n",
    "        <td>\n",
    "            <img src='assets/images/pelton.jpg'>\n",
    "        </td>\n",
    "    </tr>\n",
    "</table>"
   ]
  },
  {
   "cell_type": "markdown",
   "metadata": {},
   "source": [
    "---\n",
    "El manejo de la potencia eléctrica generada en central hidráulica se realiza a partir del control de caudal el cual pasa por el sistema electromecánico conformado por la turbina y el generador. \n",
    "\n",
    "Este flujo de agua que pasa por una tubería u otra estructura hidráulica es regulado un dispositivo hidráulico-mecánico llamado **Compuerta**.\n",
    "\n",
    "Existen distintos tipos según su aplicación, los mas ocupados en las centrales de generación son las compuertas de tipo Stoney, de Vagon, de Oruga, entre otras. En este proyecto ocuparemos una compuerta tipo Stoney debido a su amplio uso en centrales hidráulicas, siendo una de las compuertas planas mas útiles debido a que se mueve sobre ruedas instaladas simétricamente a ambos lados de la estructura soportando altas presiones."
   ]
  },
  {
   "cell_type": "markdown",
   "metadata": {},
   "source": [
    "---\n",
    "# Elementos Transitorios"
   ]
  },
  {
   "cell_type": "markdown",
   "metadata": {},
   "source": [
    "Existen distintas consideraciones que se deben hacer en el régimen transitorio a la hora de operar y diseñar una central hidroeléctrica, ya que de esta forma se diseña para el peor escenario, evitando posibles daños futuros. Frente a esto existen algunos temas importantes de estudio como las chimeneas de equilibrio, el regulador de la turbina, el golpe de ariete, la capitación, entre otros. A continuación se explicará el funcionamiento de la chimenea, pero antes se debe describir el golpe de ariete."
   ]
  },
  {
   "cell_type": "markdown",
   "metadata": {},
   "source": [
    "##  Golpe de ariete"
   ]
  },
  {
   "cell_type": "markdown",
   "metadata": {},
   "source": [
    "También se llama pulso de Zhukowski y causa problemas en las tuberías e instalaciones hidráulicas. Se genera porque el fluido es elástico, y al cerrar una válvula de forma brusca , partículas de fluido empujan a las partículas que se detienen, generando una sobre presión que puede viajar más rápido que el sonido por la tubería. Esto genera que el fluido en un instante inicial se comprima y la tubería se dilate. Luego, cuando la sobrepresión se detiene el fluido se expande y la tubería vuelve a su tamaño normal, generando una onda de presión que intenta viajar en sentido contrario, pero choca contra la válvula cerrada, disminuyendo su presión y generando una burbuja (pasa a estado gaseoso). Si esta burbuja no se disipa en alguna chimenea a presión atmosférica, se disipará mediante la dilatación y deformación de la tubería (Wikipedia, 2020). \n",
    "\n",
    "La velocidad a la que se propaga la onda de presión en la tubería se llama **celeridad**. Su ecuación cuando el fluido es agua es (Ingeniería Rural, s.f):\n",
    "\n",
    "$$a=\\frac{9900}{\\sqrt{48.3+K\\frac{D}{e}}}$$\n",
    "\n",
    "Donde:\n",
    "- $K$: $\\frac{10^10}{\\epsilon}$ con $\\epsilon$ el modulo de elasticidad del material de la tuberia.\n",
    "- $D$: Diamentro interior de la turbina.\n",
    "- $e$: Espesor de la tuberia."
   ]
  },
  {
   "cell_type": "markdown",
   "metadata": {},
   "source": [
    "### ¿Qué ocurre si la tubería está diseñada con tramos de distintas características?\n",
    "Se define la celeridad media como:"
   ]
  },
  {
   "cell_type": "markdown",
   "metadata": {},
   "source": [
    "$$a=\\frac{L}{\\sum_{i}\\frac{L_{i}}{a_{i}}}$$\n",
    "Donde: \n",
    "- $a_{i}$: celeridad del tramo i de la tuberia.\n",
    "- $L_{i}$: longitud del tramo i de la tuberia."
   ]
  },
  {
   "cell_type": "markdown",
   "metadata": {},
   "source": [
    "Además de esto para modelar el golpe de ariete, se debe definir el tiempo entre el inicio o término del cierre/apertura de una válvula o bomba. Las bombas por ejemplo tienen un tiempo de parada que es difícil de medir dado al detener la bomba se generar impulsiones. Este tiempo viene impuesto y no se puede modificar. Se obtiene de la siguiente manera (Ingeniería Rural, s.f):\n",
    "\n",
    "$$T=C+\\frac{KLv}{gH_{m}}$$\n",
    "\n",
    "Donde: \n",
    "\n",
    "- $L$: Longitud de conducto.\n",
    "- $v$: velocidad en regimen permanente del agua.\n",
    "- $g$: aceleracion de gravedad.\n",
    "- $H_{m}$: Altura manométrica del grupo de bombeo."
   ]
  },
  {
   "cell_type": "markdown",
   "metadata": {},
   "source": [
    "El valor de $C$ depende de la pendiente hidráulica $\\frac{H_{m}}{L}$ siendo $C=1$ para $\\frac{H_{m}}{L} \\leq 20\\%$ y luego decrece a 0 casi linealmente llegando a pendientes de $40\\%$. \n",
    "\n",
    "El valor de $K$ depende del largo de la tubería y se puede obtener por tablas o gráficas. \n",
    "\n",
    "Se puede además ver que si $a$ es la celeridad de la onda de presión (velocidad) y $L$ es la longitud de la tubería, se tiene que $\\frac{L}{a}$ es el tiempo que tarda la onda en viajar la distancia $L$. Pero como la onda se devuelve, entonces $\\frac{2L}{a}$ es el período de la onda. Con esto se dice que si $T<\\frac{2L}{a}$ entonces el cierre fue rápido, y si $T>\\frac{2L}{a}$ entonces el cierre o parada fue lento/a. Mientras mayor sea $T$ habrá menos sobrepresión (Ingeniería Rural, s.f). Se puede inferir que existe una longitud crítica en la cual se puede decir que se cumpla una condición de tiempo u otra (cierre rápido o cierra lento). Con todo esto se puede calcular el golpe de ariete $\\Delta H=\\frac{\\Delta P}{\\gamma}$ dependiendo el tipo de cierre (Ingeniería Rural, s.f):\n",
    "\n",
    "- Cierre Rapido:\n",
    "\n",
    " $$L>L_{critico},~~~~T>\\frac{2L}{a},~~~~\\Delta H=\\frac{a \\cdot v}{g}$$\n",
    "\n",
    "- Cierre Lento:\n",
    "\n",
    "$$L<L_{critico},~~~~T<\\frac{2L}{a},~~~~\\Delta H=\\frac{2L \\cdot v}{gT}$$\n",
    "    "
   ]
  },
  {
   "cell_type": "markdown",
   "metadata": {},
   "source": [
    "# Chimenea de Equilibrio\n",
    "\n",
    "Una forma de proteger las tuberías de sobrepresiones y otras fluctuaciones es con las chimeneas de equilibrio. Este dispositivo es un ducto de diámetro mayor al de la tubería que se coloca de forma vertical y está abierta a la atmósfera (Ingeniería Rural, s.f). Además de proteger de fluctuaciones y sobrepresiones también mejora la regulación de la turbina reduciendo la inercia de la columna de agua involucrada, además de utilizarse como reserva para acelerar/desacelerar el agua más lento, reduciendo la amplitud de oscilación (Martínez, Espert, y Andreu, s.f). Existen distintos tipos de chimeneas (ver figura 1 en anexos): simples, de orificio, diferenciales, unidireccionales, cerradas, con vertedero, inclinadas, con galerías, entre otros. Para el análisis de este proyecto se tratarán las chimeneas simples, sin embargo, hay conceptos y supuestos que son independientes del tipo de chimenea."
   ]
  },
  {
   "cell_type": "markdown",
   "metadata": {},
   "source": [
    "Se denomina ''galería'' a la sección de tubería que está entre el embalse aguas arribas y la chimenea de equilibrio. La sección de tubería posterior a la chimenea se denomina ''tubería forzada'' y conecta con la turbina (rauhermi, 2015). Se asume para el análisis que la galería tiene paredes rígidas, el fluido es incompresible y que la sobrepresión se absorbe completamente en la chimenea sin pasar a la tubería forzada. Se asume además, una inercia despreciable para el agua de la chimenea en comparación a la galería. Finalmente las pérdidas en la galería y puntos singulares se pueden calcular de las ecuaciones de régimen permanente (Martínez et al., s.f). "
   ]
  },
  {
   "cell_type": "markdown",
   "metadata": {},
   "source": [
    "## Chimenea Simple\n",
    "\n",
    "Se conecta directo a la galería de forma vertical o con inclinación. Su diámetro es mayor que el de la galería para despreciar pérdidas en la conexión. Utilizando la figura 2 presente en anexos, se puede obtener una ecuación para el caudal $Q_{t}$ (derivada de la ecuación de Euler) dada por (Martínez et al., s.f): \n",
    "\n",
    "$$\\frac{dQ_{t}}{dt}=\\frac{gA_{t}}{L}(-z-cQ_{t}|Q_{t}|)$$\n",
    "\n",
    "Donde:\n",
    "- $z$:Diferencia de altura entre chimenea y embalse.\n",
    "- $A_t$: Sección transversal de la galería.\n",
    "- $L$: Largo\n",
    "- $c$: Coeficiente de pérdidas distribuidas, de envocadura y velocidad."
   ]
  },
  {
   "cell_type": "markdown",
   "metadata": {},
   "source": [
    "Luego notando que por continuidad $Q_{t}=Q_{s}+Q_{tur}$ y $Q_{s}=A_{s}\\frac{dz}{dt}$ se obtiene una ecuación para la altura $z$ de la chimenea (Martínez et al., s.f):\n",
    "$$\\frac{dz}{dt}=\\frac{1}{A_{s}}(Q_{t}-Q_{tur})$$\n",
    "Las dos ecuaciones diferenciales anteriores están acopladas. Para ser resueltas se deben tener las condiciones iniciales y $Q_{tur}$, que se puede obtener con otras ecuaciones más complejas que involucra el golpe de ariete y otros fenómenos que no serán abordados, pero se pueden resolver por métodos numéricos. Para simplificar se asume que $Q_{tur}=0$, y al unir ambas ecuaciones diferenciales se obtiene (Martínez et al., s.f):"
   ]
  },
  {
   "cell_type": "markdown",
   "metadata": {},
   "source": [
    "$$\\frac{d^2z}{dt^2}+\\frac{gA_{t}}{LA_{s}}z=0$$\n",
    "La cual es la ecuación de un oscilar armónico simple. Usando condiciones iniciales de $z=0$, $t=0$ y $Q_{o}$ como caudal antes del cierre s obtiene una oscilación no amortiguada de amplitud $Z_{o}$ y período $T_{o}$: \n",
    "$$Z_{o}=Q_{o}\\sqrt{\\frac{L}{gA_{s}A_{L}}},~~~~T_{o}=2\\pi \\sqrt{\\frac{LA_{s}}{gA_{t}}}$$\n",
    "Estas soluciones no son buenas. ya que implica que la chimenea se queda oscilando constantemente. Sin embargo se usan como punto de comparación en resultados más realistas (Martínez, et al., s.f). "
   ]
  },
  {
   "cell_type": "markdown",
   "metadata": {},
   "source": [
    "---\n",
    "# FIN!\n",
    "Ahora que tenemos todos los terminos y funcionamientos dentro de una central hidroelectrica bien claros, nos dirigamosnos al archivo de _modelo_central_electrica_ para poder ver como abordaremos los problemas relacionados a estas centrales apoyandonos en un modelo."
   ]
  }
 ],
 "metadata": {
  "kernelspec": {
   "display_name": "Python 3",
   "language": "python",
   "name": "python3"
  },
  "language_info": {
   "codemirror_mode": {
    "name": "ipython",
    "version": 3
   },
   "file_extension": ".py",
   "mimetype": "text/x-python",
   "name": "python",
   "nbconvert_exporter": "python",
   "pygments_lexer": "ipython3",
   "version": "3.8.6"
  }
 },
 "nbformat": 4,
 "nbformat_minor": 4
}
