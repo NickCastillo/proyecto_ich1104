{
 "cells": [
  {
   "cell_type": "markdown",
   "metadata": {},
   "source": [
    "# Problema 1: Control PID de la Planta hidráulica\n",
    "\n",
    "\n",
    "Como primer ejercicio, realizaremos un controlador PID (Proporcional Integral y Derivativo) sobre la hidroeléctrica. Un controlador tiene la finalidad de llevar el sistema a un punto de operación deseado, usualmente a este punto se llama referencia y en este caso la variable que deseamos manejar como referencia es la potencia de la turbina. El controlador PID realiza los cálculos necesarios para llevar el sistema hacia la referencia manejando su variable manipulada, en este caso la variable manipulada es la apertura de la compuerta. Es decir, este programa manipula la apertura de la compuerta para lograr la potencia de referencia definida.\n",
    "\n",
    "\n",
    "En el siguiente código se implementa el controlador que nos permite fijar una referencia en la potencia (potencia que queremos alcanzar) y el programa controlara la apertura de la compuerta (variable manipulada) con la intención de alcanzar dicha referencia de potencia. Para poder modelar la planta, se ocupan las siguientes ecuaciones que modelan la planta:\n",
    "\n",
    "$$V_{h}(t)=\\frac{h^{5}}{3L^{2}}+b\\frac{h^{3}}{2L}$$\n",
    "\n",
    "\n",
    "$$\\frac{dV_{h}}{dt}=\\frac{5}{3L^{2}}h^{4}(t)dh(t)+\\frac{3b}{2L}h^{2}(t)dh(t)=q_{in}-Cab_{1}\\sqrt{gh(t)}$$\n",
    "\n",
    "\n",
    "$$ P=\\eta \\gamma Cab_{1}\\sqrt{h(t)}\\left(h(t) + \\frac{v_2^2}{2g}-64\\cdot\\frac{\\mu L v_2}{\\rho D^2 2g}\\right) $$\n",
    "\n",
    "\n",
    "\n",
    "Este controlador tiene un rango de operación de $0 [MW]$ a $80 [MW]$, mientras que la apertura de la compuerta puede ir de 0 metros a 10 metros. Para poder poner a prueba el controlador se establecen 3 referencias distintas las cuales se pueden variar de manera arbitraria (se pueden modificar) para mostrar la apertura de compuerta necesaria para alcanzar cierta potencia. La referencia 1 $Pref_1=10[MW]$ estará activa en el intervalo de tiempo $[0s-2s]$, la referencia 2 $Pref_2=50[MW]$ estará activa en el intervalo de tiempo $[2s-4s]$ mientras que la referencia 3 $Pref_3=20[MW]$ estará activa en el intervalo de tiempo $[4s-6s]$. En el grafico final veremos cómo cambia la dinámica de la potencia y la apertura de la compuerta para lograr las distintas potencias establecidas.\n",
    "\n",
    "\n",
    "\n",
    "\n"
   ]
  },
  {
   "cell_type": "code",
   "execution_count": 3,
   "metadata": {},
   "outputs": [
    {
     "data": {
      "image/png": "[encoded data removed]",
      "text/plain": [
       "<Figure size 432x288 with 2 Axes>"
      ]
     },
     "metadata": {
      "needs_background": "light"
     },
     "output_type": "display_data"
    }
   ],
   "source": [
    "from scipy.integrate import odeint\n",
    "import matplotlib.pyplot as plt\n",
    "import numpy as np\n",
    "import numpy\n",
    "import math\n",
    "\n",
    "# function that returns dy/dt\n",
    "def model(z,t,qin,C,a,b1,g,Lt,Le,b,mu,rho,D,hi):\n",
    "    h=z[0]                                                #Funcion EDO\n",
    "    Q = C*a*b1*math.sqrt(g*(hi+h))                        #Caudal de salida\n",
    "    v_2 = 4*Q/(math.pi*D**2)                              #Velocidad de salida\n",
    "    dhdt = (qin-Q)/((5/(3*Le**2))*h**4+(3*b/(2*Le))*h**2) #EDO para altura\n",
    "    return [dhdt]\n",
    "\n",
    "#Referencias (Se pueden modificar):\n",
    "\n",
    "Pref1 = 10000000   #10 MW\n",
    "Pref2 = 50000000   #50 MW\n",
    "Pref3 = 20000000   #20 MW\n",
    "\n",
    "#Parametros de tiempo:\n",
    "h0 = 155    #initial condition\n",
    "Time = 6    #Tiempo de simulacion\n",
    "dt = 0.01   #Periodo de muestreo\n",
    "t = np.arange(Time+1)\n",
    "\n",
    "#Parametros del embalse:\n",
    "qin = 100+ 30*numpy.cos(2*math.pi/Time*dt*10)   #Caudal de entrada\n",
    "C = 0.64    #Parametro \n",
    "a = 1       #Ancho de la compuerta\n",
    "b1 = 0      #Apertura vertical de la compuerta\n",
    "b1max = 10  #Apertura maxima vertical de la compuerta\n",
    "b = 100     #Base de la seccion transversal del estanque\n",
    "efic  = 0.9 #Eficiencia de la turbina\n",
    "g = 9.81    #Aceleracion de gravedad\n",
    "Lt = 200    #distancia a la que está la turbina por la tubería\n",
    "Le = 150    #distancia de   \n",
    "mu = 0.001  #mu del agua \n",
    "rho = 1000  #densidad del agua\n",
    "D = 5       #diametro de la tuberia\n",
    "hi = 20     #altura desde la base del embalse\n",
    "\n",
    "#Parametros del controlador:\n",
    "Kd = 0              #Ganancias del PID\n",
    "Ki = 0.00000007  \n",
    "Kp = 0.000000001 \n",
    "Pref = Pref1        #Potencia de referencia del controlador [0MW-80MW]\n",
    "\n",
    "\n",
    "#Vectores de informacion:\n",
    "vector_potencias = [] \n",
    "vector_b1 = []\n",
    "vector_h = []\n",
    "vector_qin = []\n",
    "vector_tiempo = []\n",
    "vector_error = []\n",
    "\n",
    "#Inician variables iniciales:\n",
    "Pinicial = 0\n",
    "hinicial = h0\n",
    "bl = 0\n",
    "error = Pref - Pinicial \n",
    "vector_potencias.append(Pinicial)\n",
    "vector_h.append(hinicial)\n",
    "vector_b1.append(b1)\n",
    "vector_qin.append(qin)\n",
    "vector_tiempo.append(0)\n",
    "vector_error.append(error)\n",
    "I = 0\n",
    "k = 0\n",
    "\n",
    "for i in numpy.arange(0,Time,dt):\n",
    "    if i>2:\n",
    "        if i>4:\n",
    "            Pref = Pref3\n",
    "        else:\n",
    "            Pref =Pref2\n",
    "    else:\n",
    "        Pref = Pref1\n",
    "\n",
    "    #Se define el caudal de entrada del embalse y el error:\n",
    "    qin = 100 + 30*numpy.cos((2*math.pi/Time)*i*10) \n",
    "    error_old = error\n",
    "    error = Pref - Pinicial\n",
    "\n",
    "    #Se aplica el PID:\n",
    "    P = Kp*error\n",
    "    I = I+Ki*error\n",
    "    D1 = Kd*(error-error_old)/dt\n",
    "    b1 = P+I+D1\n",
    "\n",
    "    #Se aplican limites fisicos de la compuerta:\n",
    "    if b1>b1max:\n",
    "        b1 = b1max\n",
    "        \n",
    "    elif b1<0:\n",
    "        b1 = 0\n",
    "        \n",
    "    else:\n",
    "        b1 = b1\n",
    "\n",
    "    #Se calcula la EDO y guardan outputs de tiempo y altura:\n",
    "    out = odeint(model,hinicial,[i,i+dt],args=(qin,C,a,b1,g,Lt,Le,b,mu,rho,D,hi))\n",
    "    vector_tiempo.append(i+dt)\n",
    "    hinicial = out[:,0][-1]\n",
    "\n",
    "    #Calculamos caudal, velocidad de salida y perdidas:\n",
    "    Q = C*a*b1*math.sqrt(g*hi)\n",
    "    v_2 = 4*Q/(math.pi*D**2)\n",
    "    hf = 64*(mu/rho)*(Lt/D**2)*(v_2/(2*g))\n",
    "\n",
    "    #Se calcula la potencia de la iteración:\n",
    "    P = rho*g*Q*(hi+hinicial-(v_2**2/(2*g))-hf)\n",
    "    P = efic*P\n",
    "    Pinicial = P\n",
    "\n",
    "    #Se guardan los vectores:\n",
    "    vector_potencias.append(Pinicial) \n",
    "    vector_h.append(hinicial)\n",
    "    vector_qin.append(qin)\n",
    "    vector_b1.append(b1)\n",
    "    vector_error.append(error)\n",
    "    k=k+1\n",
    "\n",
    "#Gráficos:\n",
    "fig, (ax1,ax2) = plt.subplots(1,2)\n",
    "fig.suptitle('Central hidraulica')\n",
    "ax1.plot(vector_tiempo,np.dot(vector_potencias,1/1000000),'b-',linewidth=2)\n",
    "ax1.set_title(\"Potencia generada [MW]\")\n",
    "ax2.plot(vector_tiempo,vector_b1,'b-',linewidth=2)\n",
    "ax2.set_title(\"Apertura de la compuerta [m]\")\n",
    "plt.show()\n"
   ]
  },
  {
   "cell_type": "markdown",
   "metadata": {},
   "source": [
    "Es fácil ver que el controlador logra llegar a todas las potencias de referencia definidas en cada intervalo de tiempo. Luego, vemos que la forma de onda de la apertura de la compuerta es similar a la de la potencia, esto es dado a la ecuación de potencia que llegamos en nuestro modelo. Para esta misma simulación además es útil graficar la altura del embalse. También se establece como caudal de entrada una onda sinusoidal con valor medio $100[m^3/s]$ y amplitud $30[m^3/s]$:"
   ]
  },
  {
   "cell_type": "markdown",
   "metadata": {},
   "source": [
    "## Gráficos:"
   ]
  },
  {
   "cell_type": "code",
   "execution_count": 4,
   "metadata": {},
   "outputs": [
    {
     "data": {
      "image/png": "[encoded data removed]",
      "text/plain": [
       "<Figure size 432x288 with 2 Axes>"
      ]
     },
     "metadata": {
      "needs_background": "light"
     },
     "output_type": "display_data"
    }
   ],
   "source": [
    "fig, (ax1,ax2) = plt.subplots(1,2)\n",
    "fig.suptitle('Central hidraulica')\n",
    "ax1.plot(vector_tiempo,vector_h,'b-',linewidth=2)\n",
    "ax1.set_title(\"Altura del embalse [m]\")\n",
    "ax2.plot(vector_tiempo,vector_qin,'b-',linewidth=2)\n",
    "ax2.set_title(\"Caudal de entrada [m^3/s]\")\n",
    "plt.show()"
   ]
  },
  {
   "cell_type": "markdown",
   "metadata": {},
   "source": [
    "Este ejercicio nos sirve para entender el modelo completo de la planta hidrauica y la dinamica que tiene este modelo en cuanto a los cambios de apertura de la compuerta."
   ]
  }
 ],
 "metadata": {
  "kernelspec": {
   "display_name": "Python 3",
   "language": "python",
   "name": "python3"
  }
 },
 "nbformat": 4,
 "nbformat_minor": 4
}
