{
 "cells": [
  {
   "cell_type": "markdown",
   "metadata": {},
   "source": [
    "# Problema 2: Chimenea de equilibrio"
   ]
  },
  {
   "cell_type": "markdown",
   "metadata": {},
   "source": [
    "Primero corre el siguiente codigo, esto es solo para tener la opcion de esconder el codigo y poder tener un jupyter mas limpio. Podras apretar _Esconder/Mostrar contenido_ para esconder el codigo."
   ]
  },
  {
   "cell_type": "code",
   "execution_count": 10,
   "metadata": {},
   "outputs": [
    {
     "data": {
      "text/html": [
       "\n",
       "        <script>\n",
       "            function code_toggle_4988397080100234607() {\n",
       "                $('div.cell.code_cell.rendered.selected').find('div.input').toggle();\n",
       "            }\n",
       "\n",
       "            \n",
       "        </script>\n",
       "\n",
       "        <a href=\"javascript:code_toggle_4988397080100234607()\">Esconder/Mostrar contenido</a>\n",
       "    "
      ],
      "text/plain": [
       "<IPython.core.display.HTML object>"
      ]
     },
     "execution_count": 10,
     "metadata": {},
     "output_type": "execute_result"
    }
   ],
   "source": [
    "from IPython.display import HTML\n",
    "import random\n",
    "\n",
    "def hide_toggle(for_next=False):\n",
    "    this_cell = \"\"\"$('div.cell.code_cell.rendered.selected')\"\"\"\n",
    "    next_cell = this_cell + '.next()'\n",
    "\n",
    "    toggle_text = 'Esconder/Mostrar contenido'  # text shown on toggle link\n",
    "    target_cell = this_cell  # target cell to control with toggle\n",
    "    js_hide_current = ''  # bit of JS to permanently hide code in current cell (only when toggling next cell)\n",
    "\n",
    "    if for_next:\n",
    "        target_cell = next_cell\n",
    "        toggle_text += ' next cell'\n",
    "        js_hide_current = this_cell + '.find(\"div.input\").hide();'\n",
    "\n",
    "    js_f_name = 'code_toggle_{}'.format(str(random.randint(1,2**64)))\n",
    "\n",
    "    html = \"\"\"\n",
    "        <script>\n",
    "            function {f_name}() {{\n",
    "                {cell_selector}.find('div.input').toggle();\n",
    "            }}\n",
    "\n",
    "            {js_hide_current}\n",
    "        </script>\n",
    "\n",
    "        <a href=\"javascript:{f_name}()\">{toggle_text}</a>\n",
    "    \"\"\".format(\n",
    "        f_name=js_f_name,\n",
    "        cell_selector=target_cell,\n",
    "        js_hide_current=js_hide_current, \n",
    "        toggle_text=toggle_text\n",
    "    )\n",
    "\n",
    "    return HTML(html)\n",
    "\n",
    "hide_toggle()"
   ]
  },
  {
   "cell_type": "markdown",
   "metadata": {},
   "source": [
    "### Perfecto! Ahora con el ejercicio..."
   ]
  },
  {
   "cell_type": "markdown",
   "metadata": {},
   "source": [
    "Suponga que tiene una central hidraúlica que está funcionando en régimen permanente. Esta central se encuentra a 20 metros de altura de una turbina y la tubería que conecta la turbina con el estanque tiene un largo de 200 metros. El estanque está lleno de agua hasta 100 metros de altura. Se considera además que el embalse es de gran tamaño, está abierto a la atmósfera y la salida de la tubería después de pasar por la turbina también está abierta a la atmósfera. La potencia que genera la turbina se puede modelar con la siguiente ecuación de Bernoulli:\n",
    "\n",
    "\n",
    "\n",
    "\n",
    "\n",
    "$$P=\\eta \\gamma Av\\left(h_{e}+z_{e}-\\frac{v^{2}}{2g}-64\\frac{\\mu L_{t}v}{\\rho D^{2} 2g}\\right)$$\n",
    "\n",
    "\n",
    "\n",
    "\n",
    "\n",
    "\n",
    "Donde:\n",
    "$h_{e}=\\text{Altura del agua del estanque}$,\n",
    "$z_{e}=\\text{Altura de la base del estanque a la salida de la tubería}$,\n",
    "$v=\\text{Velocidad del fluido a la salida}$,\n",
    "$A=\\text{Área transversal de la tubería}$,\n",
    "$L_{t}=\\text{Largo tubería}$,\n",
    "$D=\\text{Diámetro tubería}$,\n",
    "$\\eta=\\text{Eficiencia de la turbina}$\n",
    "Se pide determinar el diámetro y velocidad necesarios para generar una potencia cercana a P=300 MW, máximo 300.2 MW.\n",
    "\n",
    "**Nota:** Tiene dos parámetros libres. Si logras obtener la potencia pedida aparecerá un mensaje indicándolo. La eficiencia de la turbina será 90%."
   ]
  },
  {
   "cell_type": "code",
   "execution_count": 5,
   "metadata": {},
   "outputs": [
    {
     "data": {
      "application/vnd.jupyter.widget-view+json": {
       "model_id": "1388e76768804b12b4e3d2a52942b0d7",
       "version_major": 2,
       "version_minor": 0
      },
      "text/plain": [
       "Label(value='Diámetro tubería [m]')"
      ]
     },
     "metadata": {},
     "output_type": "display_data"
    },
    {
     "data": {
      "application/vnd.jupyter.widget-view+json": {
       "model_id": "02bd089affea44b0992366575f65ce48",
       "version_major": 2,
       "version_minor": 0
      },
      "text/plain": [
       "Text(value='')"
      ]
     },
     "metadata": {},
     "output_type": "display_data"
    },
    {
     "data": {
      "application/vnd.jupyter.widget-view+json": {
       "model_id": "94e3a93830e04944905e9eff952f1b73",
       "version_major": 2,
       "version_minor": 0
      },
      "text/plain": [
       "Label(value='Velocidad fluido [m/s]')"
      ]
     },
     "metadata": {},
     "output_type": "display_data"
    },
    {
     "data": {
      "application/vnd.jupyter.widget-view+json": {
       "model_id": "1379169a46bf4b2d93f6b490c57df9d4",
       "version_major": 2,
       "version_minor": 0
      },
      "text/plain": [
       "Text(value='')"
      ]
     },
     "metadata": {},
     "output_type": "display_data"
    },
    {
     "data": {
      "application/vnd.jupyter.widget-view+json": {
       "model_id": "7ca240aa0b4440e485b21761f1b823a5",
       "version_major": 2,
       "version_minor": 0
      },
      "text/plain": [
       "Button(description='Verificar', style=ButtonStyle())"
      ]
     },
     "metadata": {},
     "output_type": "display_data"
    },
    {
     "data": {
      "application/vnd.jupyter.widget-view+json": {
       "model_id": "86bd5886e31f47ba9768630082ba933e",
       "version_major": 2,
       "version_minor": 0
      },
      "text/plain": [
       "Label(value='')"
      ]
     },
     "metadata": {},
     "output_type": "display_data"
    },
    {
     "data": {
      "application/vnd.jupyter.widget-view+json": {
       "model_id": "4025729103f346399fbf97e1f6c18b1f",
       "version_major": 2,
       "version_minor": 0
      },
      "text/plain": [
       "Label(value='')"
      ]
     },
     "metadata": {},
     "output_type": "display_data"
    },
    {
     "data": {
      "text/html": [
       "\n",
       "        <script>\n",
       "            function code_toggle_14315418172346709813() {\n",
       "                $('div.cell.code_cell.rendered.selected').find('div.input').toggle();\n",
       "            }\n",
       "\n",
       "            \n",
       "        </script>\n",
       "\n",
       "        <a href=\"javascript:code_toggle_14315418172346709813()\">Esconder/Mostrar contenido</a>\n",
       "    "
      ],
      "text/plain": [
       "<IPython.core.display.HTML object>"
      ]
     },
     "execution_count": 5,
     "metadata": {},
     "output_type": "execute_result"
    }
   ],
   "source": [
    "from ipywidgets import widgets\n",
    "import math\n",
    "\n",
    "def potencia(D,v):\n",
    "    mu=0.001; g=9.81; rho=1000; gamma=rho*g; Lt=200; ze=20; he=100; eta=0.9; #parametros arbitrarios\n",
    "    A=4*math.pi*D**2\n",
    "    hf=64*mu*Lt*v/(rho*D**2*2*g) #perdidas\n",
    "    P=eta*gamma*A*v*(he+ze-(v**2/(2*g))-hf) #potencia\n",
    "\n",
    "    return [P,hf]\n",
    "\n",
    "lbl1=widgets.Label('Diámetro tubería [m]')\n",
    "display(lbl1)\n",
    "text1=widgets.Text()\n",
    "display(text1)\n",
    "lbl2=widgets.Label('Velocidad fluido [m/s]')\n",
    "display(lbl2)\n",
    "text2=widgets.Text()\n",
    "display(text2)\n",
    "btn=widgets.Button(description=\"Verificar\")\n",
    "display(btn)\n",
    "lbl3=widgets.Label()\n",
    "display(lbl3)\n",
    "lbl4=widgets.Label()\n",
    "display(lbl4)\n",
    "\n",
    "def verificar(b):\n",
    "    D=float(text1.value)\n",
    "    v=float(text2.value)\n",
    "    P, hf=potencia(D,v)\n",
    "    P=P/1000000\n",
    "    P=int(P*100)/100.0\n",
    "    lbl3.value='Potencia= '+str(P)+' MW'\n",
    "    if P>300 and P<300.2:\n",
    "        lbl4.value='¡BIEN HECHO!'\n",
    "    elif P>300.2:\n",
    "        lbl4.value='Te pasaste :('\n",
    "    elif P<300:\n",
    "        lbl4.value='Aún falta potencia'\n",
    "        \n",
    "hide_toggle()"
   ]
  },
  {
   "cell_type": "markdown",
   "metadata": {},
   "source": [
    "Luego de determinar los parámetros anteriores, inesperadamente ocurre una falla que obliga a cerrar la compuerta que se encuentra a la salida de la turbina de forma instantánea. Como pudo observar en la parte teórica, esto genera cambios de presiones y movimiento de fluido que debe ser liberado. Suponga que la central tiene una chimenea simple de equilibrio en el tramo final de la galería de presión (tubería). En el peor de los casos se tendrán oscilaciones mantenidas de período $T_{o}$ y amplitud $Z_{o}$ dadas por las ecuaciones:\n",
    "$$Z_{o}=Q_{o}\\sqrt{\\frac{L_{t}}{gA_{s}A_{L}}},~~~~T_{o}=2\\pi \\sqrt{\\frac{L_{t}A_{s}}{gA_{t}}}$$\n",
    "\n",
    "Se asumirá que el área antes de la chimenea y después de ella es la misma, por ende $A_{L}=A_{t}$ que viene determinada por el diámetro que se encontró anteriormente. Además, $L_{t}= 200 m$ igual que antes. A continuación se presenta un gráfico en el cual se pide ingresar la velocidad y diámetros encontrados anteriormente. El gráfico muestra la altura de la columna de agua de la chimenea de equilibrio, que tiene un altura inicial de 40 metros y presenta oscilaciones. Mediante un slider se puede variar el diámetro de la chimenea de equilibrio y ver cómo cambia el período y amplitud de las oscilaciones. "
   ]
  },
  {
   "cell_type": "code",
   "execution_count": 8,
   "metadata": {},
   "outputs": [
    {
     "data": {
      "application/vnd.jupyter.widget-view+json": {
       "model_id": "084cfb3b1b5947d0824a15fc2925facb",
       "version_major": 2,
       "version_minor": 0
      },
      "text/plain": [
       "Label(value='')"
      ]
     },
     "metadata": {},
     "output_type": "display_data"
    },
    {
     "name": "stdout",
     "output_type": "stream",
     "text": [
      "Ingrese diámetro tubería: 10\n",
      "Ingrese velocidad: 10\n",
      "Caudal: 12566.37 m^3/s\n"
     ]
    },
    {
     "data": {
      "image/png": "[encoded data removed]",
      "text/plain": [
       "<Figure size 432x288 with 1 Axes>"
      ]
     },
     "metadata": {
      "needs_background": "light"
     },
     "output_type": "display_data"
    },
    {
     "data": {
      "application/vnd.jupyter.widget-view+json": {
       "model_id": "5b2209f6dcbe4d168247474f115a1f8e",
       "version_major": 2,
       "version_minor": 0
      },
      "text/plain": [
       "interactive(children=(FloatSlider(value=10.0, description='Diámetro: ', max=15.0, min=10.0), Output()), _dom_c…"
      ]
     },
     "metadata": {},
     "output_type": "display_data"
    }
   ],
   "source": [
    "# %matplotlib notebook\n",
    "\n",
    "from ipywidgets import *\n",
    "import numpy as np\n",
    "import matplotlib.pyplot as plt\n",
    "import math\n",
    "\n",
    "lbl4=widgets.Label()\n",
    "display(lbl4)\n",
    "\n",
    "D=float(input('Ingrese diámetro tubería: '))\n",
    "v=float(input('Ingrese velocidad: '))\n",
    "A=4*math.pi*D**2\n",
    "Qo=A*v\n",
    "Qo=int(Qo*100)/100.0\n",
    "print('Caudal: '+str(Qo)+' m^3/s')\n",
    "\n",
    "\n",
    "Dch=1\n",
    "hinicial=20\n",
    "A=4*math.pi*D**2\n",
    "Qo=A*v\n",
    "Lt=200; g=9.81; \n",
    "As=4*math.pi*Dch**2 #Area transversal chimenea\n",
    "Zo=Qo*math.sqrt(Lt/(g*As*A)) #Amplitud sinuosoide altura chimenea\n",
    "To=2*math.pi*math.sqrt((Lt*As)/(g*A)) #periodo sinusoide chimenea\n",
    "x=np.arange(0,100,1)\n",
    "altura_chimenea=hinicial+Zo*np.sin(2*math.pi*x/(To))\n",
    "fig = plt.figure()\n",
    "ax = fig.add_subplot(1, 1, 1)\n",
    "line, = ax.plot(x, altura_chimenea)\n",
    "plt.title('Amplitud=%f, Período=%f' %(Zo,To))\n",
    "plt.xlabel('Tiempo')\n",
    "plt.ylabel('Altura agua chimenea')\n",
    "\n",
    "def update_graf(Dch = 3.0):\n",
    "    hinicial=40\n",
    "    A=4*math.pi*D**2\n",
    "    Qo=A*v\n",
    "    Lt=200; g=9.81; \n",
    "    As=4*math.pi*Dch**2 #Area transversal chimenea\n",
    "    Zo=Qo*math.sqrt(Lt/(g*As*A)) #Amplitud sinuosoide altura chimenea\n",
    "    To=2*math.pi*math.sqrt((Lt*As)/(g*A)) #periodo sinusoide chimenea\n",
    "    x=np.arange(0,100,1)\n",
    "    altura_chimenea=hinicial+Zo*np.sin(2*math.pi*x/(To))\n",
    "    line.set_ydata(altura_chimenea)\n",
    "    plt.title('Amplitud=%f, Período=%f' %(Zo,To))\n",
    "    fig.canvas.draw_idle()\n",
    "\n",
    "interact(update_graf, Dch = widgets.FloatSlider(value=2,\n",
    "                                               min=D,\n",
    "                                               max=15,\n",
    "                                               step=0.1,\n",
    "                                          description='Diámetro: '));\n",
    "\n"
   ]
  },
  {
   "cell_type": "code",
   "execution_count": null,
   "metadata": {},
   "outputs": [],
   "source": []
  }
 ],
 "metadata": {
  "kernelspec": {
   "display_name": "Python 3",
   "language": "python",
   "name": "python3"
  },
  "language_info": {
   "codemirror_mode": {
    "name": "ipython",
    "version": 3
   },
   "file_extension": ".py",
   "mimetype": "text/x-python",
   "name": "python",
   "nbconvert_exporter": "python",
   "pygments_lexer": "ipython3",
   "version": "3.8.0"
  }
 },
 "nbformat": 4,
 "nbformat_minor": 4
}
