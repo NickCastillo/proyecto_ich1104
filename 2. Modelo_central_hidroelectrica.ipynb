{
 "cells": [
  {
   "cell_type": "markdown",
   "metadata": {},
   "source": [
    "# Modelamiento de una Central Hidroeléctrica\n",
    "---"
   ]
  },
  {
   "cell_type": "markdown",
   "metadata": {},
   "source": [
    "Una central hidráulica, como explicamos anteriormente, genera electricidad a partir del movimiento de una turbina que esta acoplada a un generador eléctrico. Para cuantificar la potencia generada, es necesario describir el fenómeno hidrodinámico que esta en el sistema, para esto nos ayudaremos del siguiente diagrama:"
   ]
  },
  {
   "cell_type": "markdown",
   "metadata": {},
   "source": [
    "<img src=\"assets/images/modelo.png\" width=500px />"
   ]
  },
  {
   "cell_type": "markdown",
   "metadata": {},
   "source": [
    "### Caudal\n",
    "\n",
    "El caudal dirigido hacia la turbina esta siendo controlado por la compuerta de tipo stoney, cuyo caudal esta definido matemáticamente por:\n",
    "\n",
    "$$Q=C\\cdot a\\cdot b\\sqrt{gh}$$\n",
    "Donde:\n",
    "- $C$: Coeficiente de desagüe, para la compueurta tipo Stoney: $C = 0.64$\n",
    "- $a$: Ancho de la compuerta.\n",
    "- $b$: Apertura de la compuerta.\n",
    "- $h$: Profundidad a la que se encuentra a la compuerta.\n",
    "\n",
    "### Perdidas\n",
    "Por otro lado, el flujo de agua, produce **perdidas de energía en las tuberías, dado por la fricción de flujo**. Para esto, además **asumiremos que no habrán perdidas singulares y perdidas por accidente**, propias de los codos en una tubería. De esta forma podemos establecer matemáticamente las perdidas en el sistema:\n",
    "\n",
    "$$h_f=f\\cdot\\frac{L}{D}\\cdot \\frac{v_2^2}{2g}$$\n",
    "donde:\n",
    "\n",
    "- $f$:factor de fricción de Darcy. Podemos calcularlo como $f=\\frac{64}{Re}$  \n",
    "- $L$: Largo de la tuberia.\n",
    "- $D$: Diametro de la tuberia.\n",
    "- $v$: Velocidad del fluido.\n",
    "- $g$: Coeficiente de aceleracion gravitacional. \n",
    "\n",
    "\n",
    "Remplazando por el **numero de Reynolds**, obtenemos:\n",
    "\n",
    "$$h_f=\\frac{64\\cdot \\mu}{v\\cdot D \\cdot \\rho}\\cdot\\frac{L}{D}\\cdot \\frac{v_2^2}{2g}=\\frac{64 \\cdot \\mu}{\\rho}\\cdot \\frac{L}{D^2}\\cdot \\frac{v_2}{2g}$$"
   ]
  },
  {
   "cell_type": "markdown",
   "metadata": {},
   "source": [
    "### Velocidad\n",
    "\n",
    "Además, podemos obtener la velocidad del fluido a partir del caudal controlado por la compuerta de tipo Stoney. Matemáticamente:\n",
    "\n",
    "$$v_2=\\frac{Q}{A}=\\frac{C\\cdot a \\cdot b \\sqrt{gh}}{A}$$\n",
    "\n",
    "Donde A es la sección de la tubería. \n",
    "\n",
    "Aplicando la **ecuación de Bernoulli** para la central:\n",
    "\n",
    "$$z_1+\\frac{P_1}{\\gamma}+\\frac{v_1^2}{2g}=z_2+\\frac{P_2}{\\gamma}+\\frac{v_2^2}{2g}+\\frac{P}{\\gamma Q}+\\frac{64 \\cdot \\mu}{\\rho}\\cdot \\frac{L}{D^2}\\cdot \\frac{v_2}{2g}$$\n"
   ]
  },
  {
   "cell_type": "markdown",
   "metadata": {},
   "source": [
    "Con:\n",
    "\n",
    "- $z_1$ y $z_2$: Las alturas de entrada y salida de la tubería respectivamente.\n",
    "- $P_1$ y $P_2$: Las presiones en la entrada y salida de la tubería respectivamente.\n",
    "- $v_1$ y $v_2$: Las velocidades de entrada y salida del fluido respectivamente.\n",
    "- $P$: La potencia mecánica ejercida en la turbina, esta se relaciona con la potencia eléctrica generada segun un coeficiente $\\eta$"
   ]
  },
  {
   "cell_type": "markdown",
   "metadata": {},
   "source": [
    "Esta ecuación se simplifica considerando distintos factores, por ejemplo la velocidad del fluido que entra a la tubería se considera nula, los fluidos en ambas partes de la central comparten sus coeficientes y características."
   ]
  },
  {
   "cell_type": "markdown",
   "metadata": {},
   "source": [
    "Con lo que finalmente:\n",
    "\n",
    "$$ P=\\gamma Q\\left(z_{1}-z_2 + \\frac{P_1-P_2}{\\gamma}-\\frac{v_2^2}{2g}-64\\cdot\\frac{\\mu L v}{\\rho D^2 2g}\\right) $$\n",
    "\n",
    "Ahora tenemos que determinar la planta en la que vamos a trabajar.\n",
    "\n",
    "### Geometría y Volumen del Embalse\n",
    "Así como la mayoría de las centrales de embalse, consideraremos que el fluido esta desplazándose en un valle. Para la geometría del embalse consideraremos entonces el siguiente diagrama:"
   ]
  },
  {
   "cell_type": "markdown",
   "metadata": {},
   "source": [
    "<img src=\"assets/images/embalse.jpg\" width=500px />"
   ]
  },
  {
   "cell_type": "markdown",
   "metadata": {},
   "source": [
    "Por otro lado, el embalse también tiene evidentemente una pendiente, que definiremos dentro de los parámetros como un ángulo $\\theta$"
   ]
  },
  {
   "cell_type": "markdown",
   "metadata": {},
   "source": [
    "La relación entre el volumen del embalse y la altura $h$ del nivel de agua es la siguiente:\n",
    "\n",
    "**Área transversal según h:**\n",
    "$$A_h= bh + \\frac{1}{2}\\left( h\\cdot \\frac{h}{\\tan \\theta_1}\\right) + \\frac{1}{2}\\left( h\\cdot \\frac{h}{\\tan \\theta_2}\\right)$$\n",
    "\n",
    "Por otro lado, al alejarse del muro del embalse, la sección permanece igual, pero el nivel del agua va disminuyendo según el ángulo $\\theta$ de la pendiente. (Es como si la sección se fuera elevando)\n",
    "\n",
    "**El volumen** se puede calcular como la integral de área entre el muro y el ultimo punto de agua del embalse.\n",
    "\n",
    "$$V_h = \\int_0^L A_{h_l} dx$$\n",
    "\n",
    "El largo de esto depende de la pendiente, $L=\\frac{h}{tan \\theta}$. Tenemos:\n",
    "\n",
    "$$x=0 \\xrightarrow{} h=0$$ $$x=L \\xrightarrow{}h=h$$\n",
    "\n",
    "$$h_x= h\\frac{x}{L}$$\n",
    "\n",
    "Finalmente:\n",
    "\n",
    "$$ V_h = \\int_0^{\\frac{h}{\\tan \\theta}} bh\\frac{x}{L} + \\frac{1}{2}\\left( h\\frac{x}{L}\\cdot \\frac{h\\frac{x}{L}}{\\tan \\theta_1}\\right) + \\frac{1}{2}\\left( h\\frac{x}{L}\\cdot \\frac{h\\frac{x}{L}}{\\tan \\theta_2}\\right) dx $$\n",
    "\n",
    "Luego, asumiendo que $\\theta_1=\\theta_2=\\pi/4$, tenemos:\n",
    "\n",
    "$\\theta_{1}=\\theta_{2}=\\frac{\\pi}{4}$:  \n",
    "\n",
    "\n",
    "$$V_{h}(t)=\\frac{h^{5}}{3L^{2}}+b\\frac{h^{3}}{2L}$$\n"
   ]
  },
  {
   "cell_type": "markdown",
   "metadata": {},
   "source": [
    "## Equilibrio de caudales en la represa\n",
    "\n",
    "Finalmente, podemos realizar el equilibrio de caudal del embalse:\n",
    "\n",
    "\n",
    "$$\\frac{dV_h}{dt}=q_{in}-q_{out}$$\n",
    "\n",
    "Donde $V_h$ es el volumen encontrado anteriormente, $q_{in}$ es el caudal proveniente de un rio que alimenta el embalse y $q_{out}$ el caudal $Q$ que realizará trabajo pasando por la turbina y que depende de la apertura de la compuerta."
   ]
  },
  {
   "cell_type": "markdown",
   "metadata": {},
   "source": [
    "## Resumen ¿Que hemos hecho?\n",
    "\n",
    "Hemos obtenido representaciones matemáticas para distintos fenómenos, primero, el Caudal. Luego, obtuvimos las perdidas de energía dados por el flujo (he ignoramos aquellas perdidas singulares y por accidente). \n",
    "\n",
    "Después sustituimos el caudal en la ecuación para la velocidad $v =\\frac{Q}{A}$ para obtener esta misma. Estos dos últimos resultados nos ayudan finalmente a aplicar la ecuación de remplazando los valores de velocidad y agregando la perdida de energía.\n",
    "\n",
    "Gracias a diversas simplificaciones obtenemos una educación final y nos movemos a ver la geometría del embalse de nuestra central eléctrica. Asumiremos que nuestro embalse, como muchos otros, se encuentra en un valle, por lo que enseñamos un diagrama de como esperamos que se vea. Luego calculamos área y junto con esta, llegamos a un volumen final para nuestro embalse.\n",
    "\n",
    "Finalmente, logramos parametrizar el embalse y asi poder tener la altura del embalse paramertizada y poder realizar un equilibrio de caudales. Esta ecuación es una ecuación diferencial que gobierna la dinámica del nivel de la represa, debido a que $\\frac{dV_h}{dt}$ depende de $h$ y $q_{out}$ tambien depende de $h$."
   ]
  }
 ],
 "metadata": {
  "kernelspec": {
   "display_name": "Python 3",
   "language": "python",
   "name": "python3"
  },
  "language_info": {
   "codemirror_mode": {
    "name": "ipython",
    "version": 3
   },
   "file_extension": ".py",
   "mimetype": "text/x-python",
   "name": "python",
   "nbconvert_exporter": "python",
   "pygments_lexer": "ipython3",
   "version": "3.8.6"
  }
 },
 "nbformat": 4,
 "nbformat_minor": 4
}
