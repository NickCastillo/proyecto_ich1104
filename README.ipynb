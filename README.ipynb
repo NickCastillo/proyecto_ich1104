{
 "cells": [
  {
   "cell_type": "markdown",
   "metadata": {},
   "source": [
    "# ReadMe\n",
    "---"
   ]
  },
  {
   "cell_type": "markdown",
   "metadata": {},
   "source": [
    "## Introducción: "
   ]
  },
  {
   "cell_type": "markdown",
   "metadata": {},
   "source": [
    "En este conjunto de archivos Jupyter Notebook enseñaremos el comportamiento de una Central Hidroeléctrica apoyándonos en un modelo con el propósito de poder cuantificar la potencia generada variando los valores de distintos parámetros ligados a este proceso. La idea es poder _jugar_ con las variables y descubrir que sirve y que nos sirve a la hora de pensar en una central hidroeléctrica.\n",
    "\n",
    "Específicamente nos centraremos en una central del tipo _Hidro Embalse_ , ya que es la más conocida y fácil de imaginar, además de que permite una representación gráfica sencilla.\n",
    "\n",
    "#### A continuación una explicación breve de los documentos:"
   ]
  },
  {
   "cell_type": "markdown",
   "metadata": {},
   "source": [
    "- **1. Introducción**: \\\n",
    "    En este archivo, tal como se menciona en el mismo, enseñaremos en que consiste una Central Hidroeléctrica, junto con sus componentes como turbinas, compuertas y chimeneas con el propósito de contextualizar de mejor manera el ambiente en donde se aplican las distintas ecuaciones vistas a lo largo del semestre.\n",
    "\n",
    "\n",
    "- **2. Modelo_central_hidroelectrica**: \\\n",
    "    Acá presentamos el modelo, introducimos/explicamos las ecuaciones ligadas a este junto valores predeterminados para algunos parámetros.\n",
    "    \n",
    "- **3. Ejercico** (para la proxima entrega) : \\\n",
    "    En este archivo se realizara el ejercicio didáctico. Presentaremos una central con dos estanques grandes (aguas arriba y aguas abajo). Uno como usuario deberá ingresar valores para algunos parámetros tales como caudal, alturas o áreas de tuberías y luego, en base a estos valores se calculara la potencia generada por la turbina.\n",
    "    \n",
    "    Luego, en algún momento se decidirá bombear agua y mostraremos la potencia que consume la bomba para realizar esta acción. Luego, se decide cerrar la bomba y se produce lo que vimos anteriormente como un *golpe de ariete* y la chimenea se disipa, lo cual sera calculado también.\n",
    "    \n",
    "    Finalmente, se enseñaran gráficos con los distintos resultados como la oscilación de la chimenea y explicaciones observaciones que se pueden realizar.\n",
    "   "
   ]
  },
  {
   "cell_type": "code",
   "execution_count": null,
   "metadata": {},
   "outputs": [],
   "source": []
  }
 ],
 "metadata": {
  "kernelspec": {
   "display_name": "Python 3",
   "language": "python",
   "name": "python3"
  },
  "language_info": {
   "codemirror_mode": {
    "name": "ipython",
    "version": 3
   },
   "file_extension": ".py",
   "mimetype": "text/x-python",
   "name": "python",
   "nbconvert_exporter": "python",
   "pygments_lexer": "ipython3",
   "version": "3.8.0"
  }
 },
 "nbformat": 4,
 "nbformat_minor": 4
}
