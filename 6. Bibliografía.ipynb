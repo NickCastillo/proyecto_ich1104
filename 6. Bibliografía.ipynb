{
 "cells": [
  {
   "cell_type": "markdown",
   "metadata": {},
   "source": [
    "# Bibliografía\n"
   ]
  },
  {
   "cell_type": "markdown",
   "metadata": {},
   "source": [
    "Acciona, (s.f). Central Hidroeléctrica de IP. Recuperado de: https://www.acciona.cl/proyectos/energia/hidroelectrica/central-hidroelectrica-de-ip/\n",
    "    \n",
    "Bonifacio, F. (2013). Introducción a la mecánica de fluidos, Santiago, Chile, Ediciones UC.\n",
    "    \n",
    "Ceupe, E. B. (2019, 9 octubre). Turbinas de acción. Recuperado de: https://www.ceupe.com/blog/turbinas-de-accion.html#:%7E:text=Las%20Turbinas%20de%20acci%C3%B3n%20son,la%20Turgo%2C%20con%20inyecci%C3%B3n%20lateral.\n",
    "    \n",
    "Coordinador Eléctrico Nacional [CEN], (2020). Información de Instalaciones. Recuperado en fecha de 28 de octubre 2020 de https://infotecnica.coordinador.cl/instalaciones/unidades-generadoras\n",
    "    \n",
    "Elementos geométricos de la sección transversal de un canal, (2018, Enero 16). Recuperado de: https://www.ingecivil.net/2018/01/16/elementos-geometricos-de-la-seccion-transversal-de-un-canal/\n",
    "    \n",
    "Enel Green Power, (2018). Turbina hidroeléctrica. Recuperado de: https://www.enelgreenpower.com/es/learning-hub/energias-renovables/energia-hidroelectrica/turbina-hidroelectrica\n",
    "    \n",
    "Fundación Terram, (2018). Carbón y diésel hacen de Energía el sector más contaminante del país. Recuperado de: https://www.terram.cl/2018/12/carbon-y-diesel-hacen-de-energia-el-sector-mas-contaminante-del-pais/#:~:text=Carb%C3%B3n%20y%20di%C3%A9sel%20hacen%20de%20Energ%C3%ADa%20el%20sector%20m%C3%A1s%20contaminante%20del%20pa%C3%ADs,-35\n",
    "    \n",
    " Garrido, J., Zafra, Á., Vázquez, F., & Sur, E. G. U. (2007). Modelado y Simulación de Centrales Hidráulicas. XXVIII Jornadas de Automática, 5. Recuperado de: https://www.ecosimpro.com/wp-content/uploads/2015/02/CEA_2007_28JA_1.pdf\n",
    "    \n",
    "Generadoras de Chile, (2020). Generación Eléctrica en Chile. Recuperado de: http://generadoras.cl/generacion-electrica-en-chile\n",
    "     \n",
    "Generadoras de Chile, (2017). Energía Hidroeléctrica. Recuperado de: http://generadoras.cl/tipos-energia/energia-hidroelectrica\n",
    "     \n",
    "Iberdrola, (2020). ¿Sabes cómo funcionan las centrales hidroeléctricas? .Recuperado de: https://www.iberdrola.com/medio-ambiente/que-es-energia-hidroelectrica\n",
    "    \n",
    "Ingeniería Rural, (s.f). Cátedra de Ingeniería Rural. Tema 10. El golpe de ariete. Recuperado de: https://previa.uclm.es/area/ing_rural/trans_hidr/tema10.pdf\n",
    "    \n",
    "Jara, V., \\& Sebastián, J. (2015). Compuertas autolimpiantes de descarga de fondo para desarenadores en pequeñas centrales hidroeléctricas.Recuperado de: http://repobib.ubiobio.cl/jspui/bitstream/123456789/502/3/Valenzuela_Jara_Jos\\%C3\\%A9_Sebastian.pdf\n",
    "    \n",
    "Martínez, F., Espert, V., y Andreu, M. (s.f). Chimeneas de equilibrio. El problema de la estabilidad hidráulica en centrales. Recuperado de: https://www.researchgate.net/publication/316637231_Chimeneas_de_equilibrio_El_problema_de_la_estabilidad_hidraulica_en_las_Centrales\n",
    "\n",
    "OVACEN, (s.f). Energía marina: Qué es, tipos, ventajas y desventajas. Recuperado de: https://ovacen.com/energia-marina/#:~:text=Se%20centra%20en%20el%20aprovechamiento,de%20altura%20es%20rentable%20instalar\n",
    "    \n",
    "rauhermi, (2015). Transitorios hidrálicos en tuberías. Recuperado de: http://eselagua.com/2015/02/28/transitorios-hidraulicos-en-tuberias/\n",
    " \n",
    "Toro Martínez, D. A. Evaluación Financiera de las pérdidas energéticas en las tuberías de conducción de pequeñas centrales hidroeléctricas. Escuela de Sistemas. Recuperado de: http://bdigital.unal.edu.co/57361/1/1152186190.217.pdf\n",
    "    \n",
    "Wikipedia, (2020). Golpe de ariete. Recuperado en la fecha de 28 de octubre 2020 de: https://es.wikipedia.org/wiki/Golpe_de_ariete\n",
    "    \n",
    "World Energy Council [WEC], (2016). World Energy Resources 2016. Recuperado de https://www.worldenergy.org/assets/images/imported/2016/10/World-Energy-Resources-Full-report-2016.10.03.pdf\n",
    "    \n",
    "    "
   ]
  }
 ],
 "metadata": {
  "kernelspec": {
   "display_name": "Python 3",
   "language": "python",
   "name": "python3"
  },
  "language_info": {
   "codemirror_mode": {
    "name": "ipython",
    "version": 3
   },
   "file_extension": ".py",
   "mimetype": "text/x-python",
   "name": "python",
   "nbconvert_exporter": "python",
   "pygments_lexer": "ipython3",
   "version": "3.8.0"
  }
 },
 "nbformat": 4,
 "nbformat_minor": 4
}
