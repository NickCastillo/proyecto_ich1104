{
 "cells": [
  {
   "cell_type": "markdown",
   "metadata": {},
   "source": [
    "# Preguntas Teoricas"
   ]
  },
  {
   "cell_type": "markdown",
   "metadata": {},
   "source": [
    "#### Avisos:\n",
    "\n",
    "Primero necesitamos que corras el siguiente bloque de codigo, no te preocupes de su contenido, aca definimos primero, una manera de poder esconder el contenido de las _cells_ aprentando la opcion de _Esconder/Mostrar contenido_ . Segundo, definimos distintas widgets que usaremos a lo largo de este notebook!\n",
    "\n",
    "Atencion! Es necesario que a la hora de responder, corras las _cells_ en donde ingresaste tu input, y luego la _cell_ que verifica la respuesta. Procura esconder el contenido de estas ultimas _cells_ de tal manera que no te puedas _spoilear_ la respuesta correcta!"
   ]
  },
  {
   "cell_type": "code",
   "execution_count": 1,
   "metadata": {},
   "outputs": [
    {
     "data": {
      "text/html": [
       "\n",
       "        <script>\n",
       "            function code_toggle_9987969954319127716() {\n",
       "                $('div.cell.code_cell.rendered.selected').find('div.input').toggle();\n",
       "            }\n",
       "\n",
       "            \n",
       "        </script>\n",
       "\n",
       "        <a href=\"javascript:code_toggle_9987969954319127716()\">Esconder/Mostrar contenido</a>\n",
       "    "
      ],
      "text/plain": [
       "<IPython.core.display.HTML object>"
      ]
     },
     "execution_count": 1,
     "metadata": {},
     "output_type": "execute_result"
    }
   ],
   "source": [
    "import ipywidgets as widgets\n",
    "\n",
    "from IPython.display import HTML\n",
    "import random\n",
    "\n",
    "def hide_toggle(for_next=False):\n",
    "    this_cell = \"\"\"$('div.cell.code_cell.rendered.selected')\"\"\"\n",
    "    next_cell = this_cell + '.next()'\n",
    "\n",
    "    toggle_text = 'Esconder/Mostrar contenido'  # text shown on toggle link\n",
    "    target_cell = this_cell  # target cell to control with toggle\n",
    "    js_hide_current = ''  # bit of JS to permanently hide code in current cell (only when toggling next cell)\n",
    "\n",
    "    if for_next:\n",
    "        target_cell = next_cell\n",
    "        toggle_text += ' next cell'\n",
    "        js_hide_current = this_cell + '.find(\"div.input\").hide();'\n",
    "\n",
    "    js_f_name = 'code_toggle_{}'.format(str(random.randint(1,2**64)))\n",
    "\n",
    "    html = \"\"\"\n",
    "        <script>\n",
    "            function {f_name}() {{\n",
    "                {cell_selector}.find('div.input').toggle();\n",
    "            }}\n",
    "\n",
    "            {js_hide_current}\n",
    "        </script>\n",
    "\n",
    "        <a href=\"javascript:{f_name}()\">{toggle_text}</a>\n",
    "    \"\"\".format(\n",
    "        f_name=js_f_name,\n",
    "        cell_selector=target_cell,\n",
    "        js_hide_current=js_hide_current, \n",
    "        toggle_text=toggle_text\n",
    "    )\n",
    "\n",
    "    return HTML(html)\n",
    "\n",
    "input1 = widgets.Dropdown(\n",
    "    options=['A', 'B', 'C', 'D'],\n",
    "    value='A',\n",
    "    description='Respuesta',\n",
    "    disabled=False,\n",
    ")\n",
    "\n",
    "\n",
    "input2 = widgets.Select(\n",
    "    options=[' de almacenamiento', ' de bombeo', ' de pasada', ' marina'],\n",
    "    value=' de almacenamiento',\n",
    "    # rows=10,\n",
    "    description='Central',\n",
    "    disabled=False\n",
    ")\n",
    "\n",
    "\n",
    "input3 = widgets.ToggleButtons(\n",
    "    options=['Verdadero', 'Falso'],\n",
    "    description='Respuesta:',\n",
    "    disabled=False,\n",
    "    button_style='info', # 'success', 'info', 'warning', 'danger' or ''\n",
    "    #tooltips=['Description of slow', 'Description of regular', 'Description of fast'],\n",
    "    #icons=['check', 'bad']\n",
    ")\n",
    "\n",
    "input4 = widgets.ToggleButtons(\n",
    "    options=['Francis', 'Kaplan', 'Pelton'],\n",
    "    description='Turbina de:',\n",
    "    disabled=False,\n",
    "    button_style='info', # 'success', 'info', 'warning', 'danger' or ''\n",
    "    #tooltips=['Description of slow', 'Description of regular', 'Description of fast'],\n",
    "    #icons=['check', 'bad']\n",
    ")\n",
    " \n",
    "    \n",
    "input5 = widgets.ToggleButtons(\n",
    "    options=['Verdadero', 'Falso'],\n",
    "    description='Respuesta:',\n",
    "    disabled=False,\n",
    "    button_style='info', # 'success', 'info', 'warning', 'danger' or ''\n",
    "    #tooltips=['Description of slow', 'Description of regular', 'Description of fast'],\n",
    "    #icons=['check', 'bad']\n",
    ")\n",
    "\n",
    "input6 = widgets.Dropdown(\n",
    "    options=['II, IV', 'I, II, IV', 'III, IV', 'II, III'],\n",
    "    value='II, IV',\n",
    "    description='Respuesta',\n",
    "    disabled=False,\n",
    ")\n",
    "\n",
    "\n",
    "hide_toggle()"
   ]
  },
  {
   "cell_type": "markdown",
   "metadata": {},
   "source": [
    "# Ahora que si estamos listos, empezemos:"
   ]
  },
  {
   "cell_type": "markdown",
   "metadata": {},
   "source": [
    "### Pregunta 1:"
   ]
  },
  {
   "cell_type": "markdown",
   "metadata": {},
   "source": [
    "Vimos que existen diferentes tipos de centrales hidroelectricas, Hidroelectricas de almacenamiento, de pasada, de bombeo y marina. Sobre las centrales de bombeo, cual de las siguientes alternativas es **correcta**? \n",
    "\n",
    "**A)** Las centrales de bombeo generan energia cuando el costo del bombeo es bajo.\n",
    "\n",
    "**B)** Las centrales de bombeo bombean agua _aguas arriba_ cuando el valor del bombeo es bajo.\n",
    "\n",
    "**C)** Las centrales de bombeo pueden tener una suma neta de energia producida igual a 0.\n",
    "\n",
    "**D)** Las centrales de bombeo no funcionan de lo mejor cuando se ve obligada a trabajar con energias renovables como la solar o la eolica. "
   ]
  },
  {
   "cell_type": "code",
   "execution_count": 2,
   "metadata": {},
   "outputs": [
    {
     "data": {
      "application/vnd.jupyter.widget-view+json": {
       "model_id": "7ace237148cd43b38cfcc38374ba31ef",
       "version_major": 2,
       "version_minor": 0
      },
      "text/plain": [
       "Dropdown(description='Respuesta', options=('A', 'B', 'C', 'D'), value='A')"
      ]
     },
     "metadata": {},
     "output_type": "display_data"
    }
   ],
   "source": [
    "input1"
   ]
  },
  {
   "cell_type": "code",
   "execution_count": 3,
   "metadata": {},
   "outputs": [
    {
     "name": "stdout",
     "output_type": "stream",
     "text": [
      "A) es incorrecto!\n",
      "Las centrales de bombeo, independiente del costo del bombeo, generan energia cuando esta misma es demandada. Cuando el costo del bombeo es bajo es cuando la central aprovecha de bombear agua aguas abajo hacia aguas arriba.\n"
     ]
    },
    {
     "data": {
      "text/html": [
       "\n",
       "        <script>\n",
       "            function code_toggle_3078620822955501601() {\n",
       "                $('div.cell.code_cell.rendered.selected').find('div.input').toggle();\n",
       "            }\n",
       "\n",
       "            \n",
       "        </script>\n",
       "\n",
       "        <a href=\"javascript:code_toggle_3078620822955501601()\">Esconder/Mostrar contenido</a>\n",
       "    "
      ],
      "text/plain": [
       "<IPython.core.display.HTML object>"
      ]
     },
     "execution_count": 3,
     "metadata": {},
     "output_type": "execute_result"
    }
   ],
   "source": [
    "if input1.value == 'A':\n",
    "    print(\"A) es incorrecto!\")\n",
    "    print(\"Las centrales de bombeo, independiente del costo del bombeo, generan energia cuando esta misma es demandada. Cuando el costo del bombeo es bajo es cuando la central aprovecha de bombear agua aguas abajo hacia aguas arriba.\")\n",
    "elif input1.value == 'B':\n",
    "    print(\"B) es incorrecto!\")\n",
    "    print(\"Las centrales de bombeo bombean agua _aguas arriba_ cuando la demanda de energia es baja.\")\n",
    "elif input1.value == 'C':\n",
    "    print(\"C) es correcto!\")\n",
    "    print(\"Dependiendo  del precio de la electricidad en los periodos de baja y alta demanda, este tipo de generacion electrica podria tener una suma neta igual a cero, ya que se requiere energia electrica en la bomba para operar, y luego se genera energia electrica\")\n",
    "elif input1.value == 'D':\n",
    "    print(\"D) es incorrecto!\")\n",
    "    print(\" Las centrales de bombeo funcionan perfecto cuando hay energias renovables comosolar o eolica, dado que otorga reserva de respaldo en caso de baja generacion renovable, disminuyendo la incertidumbre de la red\")\n",
    "hide_toggle()"
   ]
  },
  {
   "cell_type": "markdown",
   "metadata": {},
   "source": [
    "### Pregunta 2:"
   ]
  },
  {
   "cell_type": "markdown",
   "metadata": {},
   "source": [
    "En cual de las siguientes instalaciones de hidroelectricas se canaliza un rio?"
   ]
  },
  {
   "cell_type": "code",
   "execution_count": 4,
   "metadata": {},
   "outputs": [
    {
     "data": {
      "application/vnd.jupyter.widget-view+json": {
       "model_id": "4758e58d57e642b3888ee96f2b454f50",
       "version_major": 2,
       "version_minor": 0
      },
      "text/plain": [
       "Select(description='Central', options=(' de almacenamiento', ' de bombeo', ' de pasada', ' marina'), value=' d…"
      ]
     },
     "metadata": {},
     "output_type": "display_data"
    }
   ],
   "source": [
    "input2"
   ]
  },
  {
   "cell_type": "code",
   "execution_count": 5,
   "metadata": {},
   "outputs": [
    {
     "name": "stdout",
     "output_type": "stream",
     "text": [
      "Central de Almacenamiento es incorrecto! Las centrales de almacenamiento, a pesar de ubicarse en rios, utilizan represas para acumular agua de este y luego liberarla deliberadamente.\n"
     ]
    },
    {
     "data": {
      "text/html": [
       "\n",
       "        <script>\n",
       "            function code_toggle_15317639780994414438() {\n",
       "                $('div.cell.code_cell.rendered.selected').find('div.input').toggle();\n",
       "            }\n",
       "\n",
       "            \n",
       "        </script>\n",
       "\n",
       "        <a href=\"javascript:code_toggle_15317639780994414438()\">Esconder/Mostrar contenido</a>\n",
       "    "
      ],
      "text/plain": [
       "<IPython.core.display.HTML object>"
      ]
     },
     "execution_count": 5,
     "metadata": {},
     "output_type": "execute_result"
    }
   ],
   "source": [
    "if input2.value == \" de almacenamiento\":\n",
    "    print('Central de Almacenamiento es incorrecto! Las centrales de almacenamiento, a pesar de ubicarse en rios, utilizan represas para acumular agua de este y luego liberarla deliberadamente.')\n",
    "elif input2.value == \" de bombeo\":\n",
    "    print('Central de Bombeo es incorrecto! Las centrales de bombeo utilizan estanques aguas arriba y aguas abajo de tal forma que el agua deciende generando energia, y luego en periodos de baja demanda, es bombeada de vuelta hacia arriba.')\n",
    "elif input2.value == \" de pasada\":\n",
    "    print('Central de Pasada es correcto! Efectivamente, las centrales de pasada son las que canalazian un rio, en otras palabras, se instala la central cerca de un rio y mediante ductos se desvia agua del rio hacia la central para accionar una turbina.')\n",
    "elif input2.value == \" marina\":\n",
    "    print('Central Marina es incorrecto! Las centrales marinas se ubican en el mar, no cerca de rios.')\n",
    "    \n",
    "hide_toggle()"
   ]
  },
  {
   "cell_type": "markdown",
   "metadata": {},
   "source": [
    "### Pregunta 3:"
   ]
  },
  {
   "cell_type": "markdown",
   "metadata": {},
   "source": [
    "Las **turbinas de accion** aprovechan solamente la velocidad del flujo para hacer girar la turbina."
   ]
  },
  {
   "cell_type": "code",
   "execution_count": 6,
   "metadata": {},
   "outputs": [
    {
     "data": {
      "application/vnd.jupyter.widget-view+json": {
       "model_id": "274f11e3928b4974908829d351279a06",
       "version_major": 2,
       "version_minor": 0
      },
      "text/plain": [
       "ToggleButtons(button_style='info', description='Respuesta:', options=('Verdadero', 'Falso'), value='Verdadero'…"
      ]
     },
     "metadata": {},
     "output_type": "display_data"
    }
   ],
   "source": [
    "input3"
   ]
  },
  {
   "cell_type": "code",
   "execution_count": 7,
   "metadata": {},
   "outputs": [
    {
     "name": "stdout",
     "output_type": "stream",
     "text": [
      "Correcto!\n"
     ]
    },
    {
     "data": {
      "text/html": [
       "\n",
       "        <script>\n",
       "            function code_toggle_15153296660761199241() {\n",
       "                $('div.cell.code_cell.rendered.selected').find('div.input').toggle();\n",
       "            }\n",
       "\n",
       "            \n",
       "        </script>\n",
       "\n",
       "        <a href=\"javascript:code_toggle_15153296660761199241()\">Esconder/Mostrar contenido</a>\n",
       "    "
      ],
      "text/plain": [
       "<IPython.core.display.HTML object>"
      ]
     },
     "execution_count": 7,
     "metadata": {},
     "output_type": "execute_result"
    }
   ],
   "source": [
    "if input3.value == \"Verdadero\":\n",
    "    print('Correcto!')\n",
    "elif input3.value == \"Falso\":\n",
    "    print('Incorrecto! Efectivamente las turbinas de accion son las turbinas que aprovechan solamente la velocidad del flujo para hacer girar la turbina por otro lado, las turbinas de reaccion son turbinas que ademas aprovechan la presion del fluido para hacer girar la turbina.')\n",
    "    \n",
    "hide_toggle()"
   ]
  },
  {
   "cell_type": "markdown",
   "metadata": {},
   "source": [
    "### Pregunta 4:"
   ]
  },
  {
   "cell_type": "markdown",
   "metadata": {},
   "source": [
    "A que turbina corresponde la siguiente definicion:\n",
    "\n",
    "Corresponde a una turbina de reaccion y de flujo centripeto, es decir, su flujo entra en forma de espiral. Tiene un 90% de eficiencia, se utilizan para producción de electricidad y se diseñan de forma individual para cada aprovechamiento hidroeléctrico, a efectos de lograr el máximo rendimiento posible."
   ]
  },
  {
   "cell_type": "code",
   "execution_count": 10,
   "metadata": {},
   "outputs": [
    {
     "data": {
      "application/vnd.jupyter.widget-view+json": {
       "model_id": "141c17c1bd4f479f9eaed523f4fb6b07",
       "version_major": 2,
       "version_minor": 0
      },
      "text/plain": [
       "ToggleButtons(button_style='info', description='Turbina de:', index=2, options=('Francis', 'Kaplan', 'Pelton')…"
      ]
     },
     "metadata": {},
     "output_type": "display_data"
    }
   ],
   "source": [
    "input4"
   ]
  },
  {
   "cell_type": "code",
   "execution_count": 11,
   "metadata": {},
   "outputs": [
    {
     "name": "stdout",
     "output_type": "stream",
     "text": [
      "Turbina de Pelton es incorrecto!\n",
      "Las turbinas de Pelton tiene una eficiencia del 92%, muy parecida a la eficiencia de una turbina de Francis, y tambien corresponde a una turbina de reaccio, sin embargo, su flujo es mixto.\n"
     ]
    },
    {
     "data": {
      "text/html": [
       "\n",
       "        <script>\n",
       "            function code_toggle_11478377325419116940() {\n",
       "                $('div.cell.code_cell.rendered.selected').find('div.input').toggle();\n",
       "            }\n",
       "\n",
       "            \n",
       "        </script>\n",
       "\n",
       "        <a href=\"javascript:code_toggle_11478377325419116940()\">Esconder/Mostrar contenido</a>\n",
       "    "
      ],
      "text/plain": [
       "<IPython.core.display.HTML object>"
      ]
     },
     "execution_count": 11,
     "metadata": {},
     "output_type": "execute_result"
    }
   ],
   "source": [
    "if input4.value == \"Francis\":\n",
    "    print(\"Turbina de Francis es correcto!\")\n",
    "elif input4.value == \"Kaplan\":\n",
    "    print('Turbina de Kaplan es incorrecto!')\n",
    "    print('Al igual que la turbina de Francis, la turbina de Kaplan es una turbina de reaccion, sin embargo su flujo es axial.')\n",
    "elif input4.value == \"Pelton\":\n",
    "    print('Turbina de Pelton es incorrecto!')\n",
    "    print('Las turbinas de Pelton tiene una eficiencia del 92%, muy parecida a la eficiencia de una turbina de Francis, y tambien corresponde a una turbina de reaccio, sin embargo, su flujo es mixto.')\n",
    "    \n",
    "hide_toggle()"
   ]
  },
  {
   "cell_type": "markdown",
   "metadata": {},
   "source": [
    "### Pregunta 5:"
   ]
  },
  {
   "cell_type": "markdown",
   "metadata": {},
   "source": [
    "La _galeria_ corresponde a la seccion de tuberia que esta entre el embalse aguas arriba y el embalse aguas abajo.\n",
    "\n"
   ]
  },
  {
   "cell_type": "code",
   "execution_count": 19,
   "metadata": {},
   "outputs": [
    {
     "data": {
      "application/vnd.jupyter.widget-view+json": {
       "model_id": "5319d80971b6493f8d8feccceb3f0f0b",
       "version_major": 2,
       "version_minor": 0
      },
      "text/plain": [
       "ToggleButtons(button_style='info', description='Respuesta:', index=1, options=('Verdadero', 'Falso'), value='F…"
      ]
     },
     "metadata": {},
     "output_type": "display_data"
    }
   ],
   "source": [
    "input5"
   ]
  },
  {
   "cell_type": "code",
   "execution_count": 21,
   "metadata": {},
   "outputs": [
    {
     "name": "stdout",
     "output_type": "stream",
     "text": [
      "Correcto!\n",
      "La galeria corresponde a la seccion de tuberia que esta entre el embalse aguas arriba y la chimenea de equilibrio.\n"
     ]
    },
    {
     "data": {
      "text/html": [
       "\n",
       "        <script>\n",
       "            function code_toggle_5914500015832540969() {\n",
       "                $('div.cell.code_cell.rendered.selected').find('div.input').toggle();\n",
       "            }\n",
       "\n",
       "            \n",
       "        </script>\n",
       "\n",
       "        <a href=\"javascript:code_toggle_5914500015832540969()\">Esconder/Mostrar contenido</a>\n",
       "    "
      ],
      "text/plain": [
       "<IPython.core.display.HTML object>"
      ]
     },
     "execution_count": 21,
     "metadata": {},
     "output_type": "execute_result"
    }
   ],
   "source": [
    "if input5.value == \"Verdadero\":\n",
    "    print('Incorrecto!')\n",
    "elif input5.value == \"Falso\":\n",
    "    print('Correcto!')\n",
    "print('La galeria corresponde a la seccion de tuberia que esta entre el embalse aguas arriba y la chimenea de equilibrio.')\n",
    "\n",
    "hide_toggle()"
   ]
  },
  {
   "cell_type": "markdown",
   "metadata": {},
   "source": [
    "### Pregunta 6:"
   ]
  },
  {
   "cell_type": "markdown",
   "metadata": {},
   "source": [
    "Con respecto a la _galeria_ mencionada en una pregunta anterior, y sobre las chimeneas de equilibrio, cual de las siguientes alternativas es/son **correctas**? \n",
    "\n",
    "**I)** El objetivo de las chimeneas de equilibrio es otorgarle soporte a las tuberias de tal manera que estan no cedan a causa del fluido que lo atraviesa. Falso, las chimeneas de equilibrio son una forma de proteger las tuberias de sobrepresiones y otras fluctuaciones.\n",
    "\n",
    "**II)** Una **Chimenea Simple** se conecta directo a la galeria de forma vertical o con inclinacion. Verdadero \n",
    "\n",
    "**III)** La seccion de tuberia posterior a la chimenea se denomina _tuberia forzada_ y conectacon la _galeria_. Falso, se conecta con la turbina, no con la galeria. \n",
    "\n",
    "**IV)** Este dispositivo es un ducto de diametro mayor al de la tuberia que se coloca de forma vertical y esta abierta a la atmosfera. Verdadero\n"
   ]
  },
  {
   "cell_type": "code",
   "execution_count": 22,
   "metadata": {},
   "outputs": [
    {
     "data": {
      "application/vnd.jupyter.widget-view+json": {
       "model_id": "51b27a002d2c4a258a53d5a84e8926ae",
       "version_major": 2,
       "version_minor": 0
      },
      "text/plain": [
       "Dropdown(description='Respuesta', options=('II, IV', 'I, II, IV', 'III, IV', 'II, III'), value='II, IV')"
      ]
     },
     "metadata": {},
     "output_type": "display_data"
    }
   ],
   "source": [
    "input6"
   ]
  },
  {
   "cell_type": "code",
   "execution_count": 23,
   "metadata": {},
   "outputs": [
    {
     "name": "stdout",
     "output_type": "stream",
     "text": [
      "( I, II, IV ) es Incorrecto!\n",
      "\n",
      "I) Falso, las chimeneas de equilibrio son una forma de proteger las tuberias de sobrepresiones y otras fluctuaciones.\n",
      "II) Verdadero.\n",
      "III) Falso, se conecta con la turbina, no con la galeria.\n",
      "IV) Verdadero.\n"
     ]
    },
    {
     "data": {
      "text/html": [
       "\n",
       "        <script>\n",
       "            function code_toggle_16954560173428275618() {\n",
       "                $('div.cell.code_cell.rendered.selected').find('div.input').toggle();\n",
       "            }\n",
       "\n",
       "            \n",
       "        </script>\n",
       "\n",
       "        <a href=\"javascript:code_toggle_16954560173428275618()\">Esconder/Mostrar contenido</a>\n",
       "    "
      ],
      "text/plain": [
       "<IPython.core.display.HTML object>"
      ]
     },
     "execution_count": 23,
     "metadata": {},
     "output_type": "execute_result"
    }
   ],
   "source": [
    "if input6.value == \"II, IV\":\n",
    "    print(\"Correcto!\")\n",
    "else:\n",
    "    print('(',input6.value, ') es Incorrecto!')\n",
    "    print('')\n",
    "    print('I) Falso, las chimeneas de equilibrio son una forma de proteger las tuberias de sobrepresiones y otras fluctuaciones.')\n",
    "    print('II) Verdadero.')\n",
    "    print('III) Falso, se conecta con la turbina, no con la galeria.')\n",
    "    print('IV) Verdadero.')\n",
    "    \n",
    "hide_toggle()"
   ]
  }
 ],
 "metadata": {
  "kernelspec": {
   "display_name": "Python 3",
   "language": "python",
   "name": "python3"
  },
  "language_info": {
   "codemirror_mode": {
    "name": "ipython",
    "version": 3
   },
   "file_extension": ".py",
   "mimetype": "text/x-python",
   "name": "python",
   "nbconvert_exporter": "python",
   "pygments_lexer": "ipython3",
   "version": "3.8.0"
  }
 },
 "nbformat": 4,
 "nbformat_minor": 4
}
